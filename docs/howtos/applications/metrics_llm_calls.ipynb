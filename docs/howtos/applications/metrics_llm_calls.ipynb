{
 "cells": [
  {
   "cell_type": "markdown",
   "metadata": {
    "vscode": {
     "languageId": "plaintext"
    }
   },
   "source": [
    "## Debug LLM based metrics using tracing\n",
    "\n",
    "When evaluating using LLM-based metrics, each metric might make one or more calls to the LLM. These traces are useful for understanding the results and debugging any issues. This notebook shows how to capture and analyze LLM evaluation traces using [app.ragas.io](https://app.ragas.io)."
   ]
  },
  {
   "cell_type": "markdown",
   "metadata": {
    "vscode": {
     "languageId": "plaintext"
    }
   },
   "source": [
    "## Evaluation\n",
    "Do a sample evaluation using one of the LLM based metrics."
   ]
  },
  {
   "cell_type": "code",
   "execution_count": 3,
   "metadata": {},
   "outputs": [
    {
     "data": {
      "application/vnd.jupyter.widget-view+json": {
       "model_id": "6987f6025cbe4a54b9c28c71ab0a8f25",
       "version_major": 2,
       "version_minor": 0
      },
      "text/plain": [
       "Evaluating:   0%|          | 0/5 [00:00<?, ?it/s]"
      ]
     },
     "metadata": {},
     "output_type": "display_data"
    }
   ],
   "source": [
    "from ragas import EvaluationDataset\n",
    "from ragas import evaluate\n",
    "from ragas.metrics import AspectCritic\n",
    "\n",
    "dataset = [\n",
    "    {\n",
    "        \"response\": \"Andrew Ng is widely recognized for democratizing AI education through platforms like Coursera.\",\n",
    "        \"reference\": \"Andrew Ng, CEO of Landing AI, is known for democratizing AI education through Coursera.\",\n",
    "    },\n",
    "    {\n",
    "        \"response\": \"Sam Altman is the CEO of OpenAI and advocates for safe, beneficial AI technologies.\",\n",
    "        \"reference\": \"Sam Altman, CEO of OpenAI, has advanced AI research and advocates for safe AI.\",\n",
    "    },\n",
    "    {\n",
    "        \"response\": \"Demis Hassabis is the CEO of DeepMind, known for developing systems like AlphaGo.\",\n",
    "        \"reference\": \"Demis Hassabis, CEO of DeepMind, is known for developing AlphaGo.\",\n",
    "    },\n",
    "    {\n",
    "        \"response\": \"Sundar Pichai is the CEO of Google and Alphabet Inc., praised for leading innovation across Google's product ecosystem.\",\n",
    "        \"reference\": \"Sundar Pichai, CEO of Google and Alphabet Inc., leads innovation across Google's product ecosystem.\",\n",
    "    },\n",
    "    {\n",
    "        \"response\": \"Arvind Krishna transformed IBM by focusing on cloud computing and AI solutions.\",\n",
    "        \"reference\": \"Arvind Krishna, CEO of IBM, transformed the company through cloud computing and AI.\",\n",
    "    },\n",
    "]\n",
    "\n",
    "evaluation_dataset = EvaluationDataset.from_list(dataset)\n",
    "\n",
    "\n",
    "metric = AspectCritic(\n",
    "    name=\"answer_correctness\",\n",
    "    definition=\"is the response correct compared to reference\",\n",
    ")\n",
    "\n",
    "results = evaluate(evaluation_dataset, metrics=[metric])"
   ]
  },
  {
   "cell_type": "markdown",
   "metadata": {},
   "source": [
    "## Exploring the evaluation traces"
   ]
  },
  {
   "cell_type": "markdown",
   "metadata": {},
   "source": [
    "To review and debug your evaluations, you can use the [app.ragas.io](https://app.ragas.io) dashboard. First, you’ll need to create an account. If you don't have one, sign up [here](https://app.ragas.io/login). After signing up, generate an [API token](https://app.ragas.io/dashboard/settings/app-tokens).\n",
    "\n",
    "Once you have the token, set it as an environment variable like this:"
   ]
  },
  {
   "cell_type": "code",
   "execution_count": null,
   "metadata": {},
   "outputs": [],
   "source": [
    "import os\n",
    "\n",
    "os.environ[\"RAGAS_APP_TOKEN\"] = \"your_app_token\""
   ]
  },
  {
   "cell_type": "markdown",
   "metadata": {},
   "source": [
    "Then, use the `upload()` method to send the results to the dashboard:"
   ]
  },
  {
   "cell_type": "code",
   "execution_count": null,
   "metadata": {},
   "outputs": [],
   "source": [
    "results.upload()"
   ]
  },
  {
   "cell_type": "markdown",
   "metadata": {},
   "source": [
    "Once the upload is complete, you can view the results in the dashboard by following the link provided in the output. Simply click on the scores to access the associated prompt and the LLM calls made.\n",
    "\n",
    "![](./metrics_llm_calls.png)"
   ]
  }
 ],
 "metadata": {
  "kernelspec": {
   "display_name": "ragas",
   "language": "python",
   "name": "python3"
  },
  "language_info": {
   "codemirror_mode": {
    "name": "ipython",
    "version": 3
   },
   "file_extension": ".py",
   "mimetype": "text/x-python",
   "name": "python",
   "nbconvert_exporter": "python",
   "pygments_lexer": "ipython3",
   "version": "3.11.9"
  }
 },
 "nbformat": 4,
 "nbformat_minor": 2
}
