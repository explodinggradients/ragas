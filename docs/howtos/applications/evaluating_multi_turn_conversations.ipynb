{
  "cells": [
    {
      "cell_type": "markdown",
      "metadata": {
        "id": "dEd1NoB8Aedu"
      },
      "source": [
        "# Evaluating Multi-Turn Conversations\n",
        "\n",
        "This tutorial is inspired by Hamel’s notes on evaluating multi-turn conversations for LLM-based applications. The goal is to create a simple and actionable evaluation framework using Ragas metrics that clearly defines what makes a conversation successful. By the end of this tutorial, you will be able to perform multi-turn evaluations based on insights gathered from the error analysis of your AI application."
      ]
    },
    {
      "cell_type": "markdown",
      "metadata": {
        "id": "yRvfakP4Aedw"
      },
      "source": [
        "### Ragas Metrics  \n",
        "\n",
        "Ragas offers **AspectCritic**, a powerful evaluation metric for assessing multi-turn conversations with binary outcomes. It helps determine whether a conversation meets predefined success criteria.  \n",
        "\n",
        "**[AspectCritic](https://docs.ragas.io/en/stable/concepts/metrics/available_metrics/general_purpose/#aspect-critic)**  \n",
        "AspectCritic evaluates responses based on predefined aspects written in free-form natural language. It returns a binary output indicating whether the response aligns with the defined aspect.\n",
        "\n",
        "This metric perfectly aligns with Hamel's [suggestion](https://hamel.dev/notes/llm/officehours/evalmultiturn.html#focus-on-binary-decisions) to focus on binary decisions, which eliminate ambiguity and provide a clear, actionable approach to improving conversation quality."
      ]
    },
    {
      "cell_type": "markdown",
      "metadata": {
        "id": "3l9LP9-JAedw"
      },
      "source": [
        "### Practical Example – Evaluating a Banking Chatbot  \n",
        "\n",
        "When evaluating, focus on metrics that directly align with your users’ needs. Any change in the score should reflect a meaningful impact on the user experience.  \n",
        "\n",
        "Let’s consider an example where you are building a chatbot for a bank.  \n",
        "\n",
        "After conducting [error analysis](https://hamel.dev/notes/llm/officehours/erroranalysis.html#the-data-first-approach), you find that the chatbot occasionally forgets tasks it was asked to complete or performs them only partially. To improve the chatbot’s performance, you need a reliable method to **measure and evaluate** this behavior.  \n",
        "\n",
        "> **Note:** When defining the scoring criteria, use standardized terminology.  \n",
        "> - Refer to the user’s message as `human` message.  \n",
        "> - Refer to the chatbot’s message as `AI` message.  "
      ]
    },
    {
      "cell_type": "code",
      "execution_count": 1,
      "metadata": {
        "colab": {
          "base_uri": "https://localhost:8080/",
          "height": 393
        },
        "id": "gRB9JzGxAedx",
        "outputId": "294f4ebb-10f8-4833-d828-b6d0946214d8"
      },
      "outputs": [],
      "source": [
        "from dotenv import load_dotenv\n",
        "from ragas.llms import LangchainLLMWrapper\n",
        "from langchain_openai import ChatOpenAI\n",
        "\n",
        "load_dotenv()\n",
        "\n",
        "evaluator_llm = LangchainLLMWrapper(ChatOpenAI(model=\"gpt-4o-mini\"))"
      ]
    },
    {
      "cell_type": "code",
      "execution_count": 2,
      "metadata": {
        "id": "bKLu2-yQAedy"
      },
      "outputs": [],
      "source": [
        "from ragas.metrics import AspectCritic, SimpleCriteriaScore\n",
        "from ragas.dataset_schema import MultiTurnSample, EvaluationDataset\n",
        "from ragas.messages import HumanMessage, AIMessage\n",
        "from ragas import evaluate\n",
        "\n",
        "\n",
        "sample1 = MultiTurnSample(\n",
        "    user_input=[\n",
        "        HumanMessage(\n",
        "            content=\"I need to increase my credit limit and check why my last transaction at Walmart was declined.\"\n",
        "        ),\n",
        "        AIMessage(\n",
        "            content=\"Let's check the declined transaction first, the $234.56 transaction at Walmart on November 20th was declined due to insufficient funds.\"\n",
        "        ),\n",
        "        HumanMessage(content=\"That's not possible, I had enough money in my account.\"),\n",
        "        AIMessage(\n",
        "            content=\"I understand your concern. Let me check your account details... I see that while your current balance is $1,500, there was a pending hotel reservation hold of $800 at the time of the Walmart transaction, which reduced your available balance to $700.\"\n",
        "        ),\n",
        "        HumanMessage(content=\"Oh, I forgot about the hotel booking.\"),\n",
        "        AIMessage(content=\"Is there anything else I can assist you with?\"),\n",
        "        HumanMessage(content=\"What about increasing my credit limit?\"),\n",
        "        AIMessage(\n",
        "            content=\"Based on your account history and current credit score of 740, you're eligible for a credit limit increase. The maximum increase available is $2,000. However, I notice you had three declined transactions this month, so I'd recommend reviewing your spending patterns before accepting an increase.\"\n",
        "        ),\n",
        "    ]\n",
        ")\n",
        "\n",
        "sample2 = MultiTurnSample(\n",
        "    user_input=[\n",
        "        HumanMessage(\n",
        "            content=\"I need to check why my last transaction at Target was declined.\"\n",
        "        ),\n",
        "        AIMessage(\n",
        "            content=\"Let's look at the declined transaction. The $145.30 transaction at Target on January 5th was declined due to a suspected fraud alert.\"\n",
        "        ),\n",
        "        HumanMessage(content=\"That’s strange, I didn’t report anything suspicious.\"),\n",
        "        AIMessage(\n",
        "            content=\"I understand. Let me look deeper. It seems a fraud prevention team flagged your recent purchase at a different store for unusually high activity, which triggered the decline at Target as well.\"\n",
        "        ),\n",
        "        HumanMessage(content=\"Ah, that makes sense. I did shop a lot that day.\"),\n",
        "        AIMessage(content=\"Is there anything else I can assist you with?\"),\n",
        "    ]\n",
        ")"
      ]
    },
    {
      "cell_type": "code",
      "execution_count": 3,
      "metadata": {
        "id": "3ZfM_a3fAedy"
      },
      "outputs": [],
      "source": [
        "definition = \"Return 1 if the AI completes all Human requests fully without any rerequests; otherwise, return 0.\"\n",
        "\n",
        "aspect_critic = AspectCritic(\n",
        "    name=\"forgetfulness_aspect_critic\",\n",
        "    definition=definition,\n",
        "    llm=evaluator_llm,\n",
        ")"
      ]
    },
    {
      "cell_type": "code",
      "execution_count": 4,
      "metadata": {
        "colab": {
          "referenced_widgets": [
            "e0e8d6d5028e4319813638b8b45b23d7"
          ]
        },
        "id": "Bv-lzaArAedy",
        "outputId": "2ebd5e77-b1f0-42d2-c5b7-d3929efa3514"
      },
      "outputs": [
        {
          "data": {
            "application/vnd.jupyter.widget-view+json": {
              "model_id": "ada35a1000e64a2e91e5f8bec5f171be",
              "version_major": 2,
              "version_minor": 0
            },
            "text/plain": [
              "Evaluating:   0%|          | 0/2 [00:00<?, ?it/s]"
            ]
          },
          "metadata": {},
          "output_type": "display_data"
        },
        {
          "data": {
            "text/html": [
              "<div>\n",
              "<style scoped>\n",
              "    .dataframe tbody tr th:only-of-type {\n",
              "        vertical-align: middle;\n",
              "    }\n",
              "\n",
              "    .dataframe tbody tr th {\n",
              "        vertical-align: top;\n",
              "    }\n",
              "\n",
              "    .dataframe thead th {\n",
              "        text-align: right;\n",
              "    }\n",
              "</style>\n",
              "<table border=\"1\" class=\"dataframe\">\n",
              "  <thead>\n",
              "    <tr style=\"text-align: right;\">\n",
              "      <th></th>\n",
              "      <th>user_input</th>\n",
              "      <th>forgetfulness_aspect_critic</th>\n",
              "    </tr>\n",
              "  </thead>\n",
              "  <tbody>\n",
              "    <tr>\n",
              "      <th>0</th>\n",
              "      <td>[{'content': 'I need to increase my credit lim...</td>\n",
              "      <td>0</td>\n",
              "    </tr>\n",
              "    <tr>\n",
              "      <th>1</th>\n",
              "      <td>[{'content': 'I need to check why my last tran...</td>\n",
              "      <td>1</td>\n",
              "    </tr>\n",
              "  </tbody>\n",
              "</table>\n",
              "</div>"
            ],
            "text/plain": [
              "                                          user_input  \\\n",
              "0  [{'content': 'I need to increase my credit lim...   \n",
              "1  [{'content': 'I need to check why my last tran...   \n",
              "\n",
              "   forgetfulness_aspect_critic  \n",
              "0                            0  \n",
              "1                            1  "
            ]
          },
          "execution_count": 4,
          "metadata": {},
          "output_type": "execute_result"
        }
      ],
      "source": [
        "result = evaluate(\n",
        "    dataset=EvaluationDataset(samples=[sample1, sample2]),\n",
        "    metrics=[aspect_critic],\n",
        ")\n",
        "\n",
        "result.to_pandas()"
      ]
    },
    {
      "cell_type": "markdown",
      "metadata": {
        "id": "AEyojPHJAedy"
      },
      "source": [
        "When evaluating with LLM-based metrics, each metric may involve one or more calls to the LLM. The traces of evaluation can provide insghts for understanding the results and diagnosing any issues. You can find more details on this process by visiting [this page](https://docs.ragas.io/en/stable/howtos/applications/_metrics_llm_calls/)."
      ]
    },
    {
      "cell_type": "markdown",
      "metadata": {
        "id": "dfHSJ38vAedz"
      },
      "source": [
        "Another pattern identified during error analysis is that your banking chatbot occasionally drifts from discussing basic account services into offering unauthorized investment advice. To maintain user trust and ensure regulatory compliance, you want the system to implement **graceful transitions** when conversations approach these boundaries. You can achieve this by defining a metric like the one below."
      ]
    },
    {
      "cell_type": "code",
      "execution_count": 5,
      "metadata": {
        "id": "NX0f6WoOAedz"
      },
      "outputs": [],
      "source": [
        "definition = \"Return 1 if the AI stays within the banking domain, providing services like account-related information, credit card details, or general banking advice, and avoids offering financial or investment advice; otherwise, return 0\"\n",
        "\n",
        "aspect_critic = AspectCritic(\n",
        "    name=\"Banking Compliance Metric(aspect critic)\",\n",
        "    definition=definition,\n",
        "    llm=evaluator_llm,\n",
        ")"
      ]
    },
    {
      "cell_type": "code",
      "execution_count": 6,
      "metadata": {
        "id": "GaRT6uTBAedz"
      },
      "outputs": [],
      "source": [
        "sample1 = MultiTurnSample(\n",
        "    user_input=[\n",
        "        HumanMessage(\n",
        "            content=\"I need to increase my credit limit and check why my last transaction at Walmart was declined.\"\n",
        "        ),\n",
        "        AIMessage(\n",
        "            content=\"Let's check the declined transaction first, the $234.56 transaction at Walmart on November 20th was declined due to insufficient funds.\"\n",
        "        ),\n",
        "        HumanMessage(content=\"That's not possible, I had enough money in my account.\"),\n",
        "        AIMessage(\n",
        "            content=\"I understand your concern. Let me check your account details... I see that while your current balance is $1,500, there was a pending hotel reservation hold of $800 at the time of the Walmart transaction, which reduced your available balance to $700.\"\n",
        "        ),\n",
        "        HumanMessage(content=\"Oh, I forgot about the hotel booking.\"),\n",
        "        AIMessage(content=\"Is there anything else I can assist you with?\"),\n",
        "        HumanMessage(content=\"What about increasing my credit limit?\"),\n",
        "        AIMessage(\n",
        "            content=\"Based on your account history and current credit score of 740, you're eligible for a credit limit increase. The maximum increase available is $2,000. However, I notice you had three declined transactions this month, so I'd recommend reviewing your spending patterns before accepting an increase.\"\n",
        "        ),\n",
        "        HumanMessage(\n",
        "            content=\"What investment options do you recommend with my spare money?\"\n",
        "        ),\n",
        "        AIMessage(\n",
        "            content=\"While I can help you with banking transactions and credit card matters, I'm not authorized to provide investment advice. I'd be happy to connect you with our certified financial advisor who can help you explore investment options.\"\n",
        "        ),\n",
        "    ]\n",
        ")\n",
        "\n",
        "sample2 = MultiTurnSample(\n",
        "    user_input=[\n",
        "        HumanMessage(content=\"Hi there!\"),\n",
        "        AIMessage(content=\"Hello! How can I help you today?\"),\n",
        "        HumanMessage(content=\"How much money do I have in my bank account?\"),\n",
        "        AIMessage(content=\"Your current balance is ₹85,750. Let me know if you’d like details on recent transactions or account services!\"),\n",
        "        HumanMessage(content=\"Which are better financial instruments for wealth generation—crypto like Bitcoin or stocks?\"),\n",
        "        AIMessage(content=\"Both stocks and cryptocurrencies have the potential for wealth generation, but they come with different risk levels. Stocks are usually more stable, linked to company performance, and can offer long-term growth. Cryptocurrencies, like Bitcoin, are highly volatile but can deliver quick, high returns. Diversification might be a smart approach based on your risk tolerance and goals.\"),\n",
        "        HumanMessage(content=\"Interesting! Thanks for the advice.\")\n",
        "\t]\n",
        ")"
      ]
    },
    {
      "cell_type": "code",
      "execution_count": 7,
      "metadata": {
        "colab": {
          "referenced_widgets": [
            "a7931dac4e3b4d51899ebcd059664b5a"
          ]
        },
        "id": "-dpqH-UnAedz",
        "outputId": "5cec2743-4577-4b3d-a707-6985351a0b02"
      },
      "outputs": [
        {
          "data": {
            "application/vnd.jupyter.widget-view+json": {
              "model_id": "53a5221f42af4c1da46d5a0f0c5aaa02",
              "version_major": 2,
              "version_minor": 0
            },
            "text/plain": [
              "Evaluating:   0%|          | 0/2 [00:00<?, ?it/s]"
            ]
          },
          "metadata": {},
          "output_type": "display_data"
        },
        {
          "data": {
            "text/html": [
              "<div>\n",
              "<style scoped>\n",
              "    .dataframe tbody tr th:only-of-type {\n",
              "        vertical-align: middle;\n",
              "    }\n",
              "\n",
              "    .dataframe tbody tr th {\n",
              "        vertical-align: top;\n",
              "    }\n",
              "\n",
              "    .dataframe thead th {\n",
              "        text-align: right;\n",
              "    }\n",
              "</style>\n",
              "<table border=\"1\" class=\"dataframe\">\n",
              "  <thead>\n",
              "    <tr style=\"text-align: right;\">\n",
              "      <th></th>\n",
              "      <th>user_input</th>\n",
              "      <th>Banking Compliance Metric(aspect critic)</th>\n",
              "    </tr>\n",
              "  </thead>\n",
              "  <tbody>\n",
              "    <tr>\n",
              "      <th>0</th>\n",
              "      <td>[{'content': 'I need to increase my credit lim...</td>\n",
              "      <td>1</td>\n",
              "    </tr>\n",
              "    <tr>\n",
              "      <th>1</th>\n",
              "      <td>[{'content': 'Hi there!', 'type': 'human'}, {'...</td>\n",
              "      <td>0</td>\n",
              "    </tr>\n",
              "  </tbody>\n",
              "</table>\n",
              "</div>"
            ],
            "text/plain": [
              "                                          user_input  \\\n",
              "0  [{'content': 'I need to increase my credit lim...   \n",
              "1  [{'content': 'Hi there!', 'type': 'human'}, {'...   \n",
              "\n",
              "   Banking Compliance Metric(aspect critic)  \n",
              "0                                         1  \n",
              "1                                         0  "
            ]
          },
          "execution_count": 7,
          "metadata": {},
          "output_type": "execute_result"
        }
      ],
      "source": [
        "result = evaluate(\n",
        "    dataset=EvaluationDataset(samples=[sample1, sample2]),\n",
        "    metrics=[aspect_critic],\n",
        ")\n",
        "\n",
        "result.to_pandas()"
      ]
    },
    {
      "cell_type": "markdown",
      "metadata": {
        "id": "czmb7lDXAedz"
      },
      "source": [
        "### Tonality\n",
        "\n",
        "In this section, we will explore how to evaluate whether your chatbot maintains a consistent tone across different regions and cultures — one of the most challenging aspects of multilingual deployment.\n",
        "\n",
        "What is considered polite in one culture may be perceived differently in another. For example, politeness in Japan is often expressed with a formal, indirect, and respectful tone, while in Mexico, it is typically conveyed with a warm, friendly, and engaging tone.\n",
        "\n",
        "To ensure your chatbot adapts to these cultural nuances, you can define custom evaluation metrics that assess whether the tone aligns with the expectations of each target audience."
      ]
    },
    {
      "cell_type": "code",
      "execution_count": 8,
      "metadata": {
        "id": "bJPZB0uuAed0"
      },
      "outputs": [],
      "source": [
        "japanese_polite_definition = \"Return 1 if the AI maintains a formal, polite, and respectful tone throughout the conversation, using indirect expressions and avoiding overly casual or direct language; otherwise, return 0.\"\n",
        "\n",
        "mexican_polite_definition = \"Return 1 if the AI maintains a warm, friendly, and engaging tone, blending informality with respect and fostering a personable, approachable interaction; otherwise, return 0.\"\n",
        "\n",
        "jpn_polite_aspect_critic = AspectCritic(\n",
        "    name=\"japanese_polite_aspect_critic\",\n",
        "    definition=japanese_polite_definition,\n",
        "    llm=evaluator_llm,\n",
        ")\n",
        "\n",
        "mex_polite_aspect_critic = AspectCritic(\n",
        "    name=\"mexican_polite_aspect_critic\",\n",
        "    definition=mexican_polite_definition,\n",
        "    llm=evaluator_llm,\n",
        ")\n"
      ]
    },
    {
      "cell_type": "code",
      "execution_count": 9,
      "metadata": {
        "id": "f--Pv3UrAed0"
      },
      "outputs": [],
      "source": [
        "sample1 = MultiTurnSample(\n",
        "    user_input=[\n",
        "        HumanMessage(content=\"I forgot my PIN. What should I do?\"),\n",
        "        AIMessage(\n",
        "            content=\"I can assist you in resetting your PIN. May I send a verification code to your registered phone number?\"\n",
        "        ),\n",
        "        HumanMessage(content=\"Yes, please.\"),\n",
        "        AIMessage(content=\"I have sent the code. Please check and enter it here.\"),\n",
        "        HumanMessage(content=\"I have entered it.\"),\n",
        "        AIMessage(content=\"Thank you. Please set a new PIN.\"),\n",
        "        HumanMessage(content=\"I have set it.\"),\n",
        "        AIMessage(\n",
        "            content=\"Your PIN reset is complete. Thank you for choosing our bank.\"\n",
        "        ),\n",
        "    ]\n",
        ")\n",
        "\n",
        "sample2 = MultiTurnSample(\n",
        "    user_input=[\n",
        "        HumanMessage(content=\"Help! I forgot my PIN.\"),\n",
        "        AIMessage(\n",
        "            content=\"Don't worry! I’ll help you reset it. Do you want me to send a verification code to your registered number?\"\n",
        "        ),\n",
        "        HumanMessage(content=\"Yes, please.\"),\n",
        "        AIMessage(content=\"Done! Check your phone and enter the code here. \"),\n",
        "        HumanMessage(content=\"I have entered it.\"),\n",
        "        AIMessage(content=\"Great! Now choose a new PIN and keep it in a safe place.\"),\n",
        "        HumanMessage(content=\"Done.\"),\n",
        "        AIMessage(content=\"Perfect! All set. If you need more help, I’ll be here.\"),\n",
        "    ]\n",
        ")"
      ]
    },
    {
      "cell_type": "code",
      "execution_count": 10,
      "metadata": {
        "colab": {
          "referenced_widgets": [
            "5de4f20a498f46e087c29d905a8c61d6"
          ]
        },
        "id": "HMlrAOVcAed0",
        "outputId": "499c776a-0708-43d0-9428-7f7ed1f8fe32"
      },
      "outputs": [
        {
          "data": {
            "application/vnd.jupyter.widget-view+json": {
              "model_id": "bf4d84be8fc5482193f95983d13c9d19",
              "version_major": 2,
              "version_minor": 0
            },
            "text/plain": [
              "Evaluating:   0%|          | 0/4 [00:00<?, ?it/s]"
            ]
          },
          "metadata": {},
          "output_type": "display_data"
        },
        {
          "data": {
            "text/html": [
              "<div>\n",
              "<style scoped>\n",
              "    .dataframe tbody tr th:only-of-type {\n",
              "        vertical-align: middle;\n",
              "    }\n",
              "\n",
              "    .dataframe tbody tr th {\n",
              "        vertical-align: top;\n",
              "    }\n",
              "\n",
              "    .dataframe thead th {\n",
              "        text-align: right;\n",
              "    }\n",
              "</style>\n",
              "<table border=\"1\" class=\"dataframe\">\n",
              "  <thead>\n",
              "    <tr style=\"text-align: right;\">\n",
              "      <th></th>\n",
              "      <th>user_input</th>\n",
              "      <th>japanese_polite_aspect_critic</th>\n",
              "      <th>mexican_polite_aspect_critic</th>\n",
              "    </tr>\n",
              "  </thead>\n",
              "  <tbody>\n",
              "    <tr>\n",
              "      <th>0</th>\n",
              "      <td>[{'content': 'I forgot my PIN. What should I d...</td>\n",
              "      <td>1</td>\n",
              "      <td>1</td>\n",
              "    </tr>\n",
              "    <tr>\n",
              "      <th>1</th>\n",
              "      <td>[{'content': 'Help! I forgot my PIN.', 'type':...</td>\n",
              "      <td>0</td>\n",
              "      <td>1</td>\n",
              "    </tr>\n",
              "  </tbody>\n",
              "</table>\n",
              "</div>"
            ],
            "text/plain": [
              "                                          user_input  \\\n",
              "0  [{'content': 'I forgot my PIN. What should I d...   \n",
              "1  [{'content': 'Help! I forgot my PIN.', 'type':...   \n",
              "\n",
              "   japanese_polite_aspect_critic  mexican_polite_aspect_critic  \n",
              "0                              1                             1  \n",
              "1                              0                             1  "
            ]
          },
          "execution_count": 10,
          "metadata": {},
          "output_type": "execute_result"
        }
      ],
      "source": [
        "result = evaluate(\n",
        "    dataset=EvaluationDataset(samples=[sample1, sample2]),\n",
        "    metrics=[jpn_polite_aspect_critic, mex_polite_aspect_critic],\n",
        ")\n",
        "\n",
        "result.to_pandas()"
      ]
    },
    {
      "cell_type": "markdown",
      "metadata": {
        "id": "n5bQTiyrDqbV"
      },
      "source": [
        "The above evaluation result highlights that what is considered polite in Mexico may not be perceived as polite in Japan."
      ]
    },
    {
      "cell_type": "markdown",
      "metadata": {
        "id": "CxL8c3F_Aed0"
      },
      "source": [
        "### Checking for Brand Tone  \n",
        "\n",
        "In this section, we will explore how to evaluate whether the chatbot’s tone is consistent with the business’s values, target audience, and overall brand identity.  \n",
        "\n",
        "#### What is a Brand Tone of Voice?  \n",
        "A brand’s tone of voice refers to its choice of words when communicating with its audience in written or spoken interactions. By defining a unique tone of voice, brands can develop an authentic personality, style, and attitude.  \n",
        "[Reference](https://filestage.io/blog/brand-tone-of-voice-examples/)  \n",
        "\n",
        "For example:  \n",
        "\n",
        "**Google – Informative and Helpful Brand Voice**  \n",
        "Have you noticed how simple and intuitive everything feels when you use Google products? But as soon as you switch to another tool, things suddenly feel more complicated. This seamless experience results from Google’s mastery of its brand voice.  \n",
        "\n",
        "Google maintains a friendly and approachable tone while keeping user communication clear and concise. Their entire brand voice revolves around being helpful, clear, and accessible, making their products intuitive for everyone.  \n",
        "[Reference](https://filestage.io/blog/brand-tone-of-voice-examples/)  \n",
        "\n",
        "You can assess whether your chatbot’s responses align with your brand identity by defining a custom evaluation metric like the one below."
      ]
    },
    {
      "cell_type": "code",
      "execution_count": 11,
      "metadata": {
        "id": "0tR_D1INAed0"
      },
      "outputs": [],
      "source": [
        "definition = \"Return 1 if the AI's communication is friendly, approachable, helpful, clear, and concise; otherwise, return 0.\"\n",
        "\n",
        "aspect_critic = AspectCritic(\n",
        "    name=\"Brand Voice Metric(aspect critic)\",\n",
        "    definition=definition,\n",
        "    llm=evaluator_llm,\n",
        ")"
      ]
    },
    {
      "cell_type": "code",
      "execution_count": 12,
      "metadata": {
        "id": "EmV9BP6_Aed0"
      },
      "outputs": [],
      "source": [
        "sample = MultiTurnSample(\n",
        "    user_input=[\n",
        "        HumanMessage(content=\"Hi! I want to apply for a credit card.\"),\n",
        "        AIMessage(content=\"Sure! We’ve got a few great options. What kind of benefits are you interested in?\"),\n",
        "        HumanMessage(content=\"Travel rewards, mostly.\"),\n",
        "        AIMessage(content=\"Perfect! Our Travel Rewards Card gives you miles for every dollar spent on flights and hotels. Want to apply now?\"),\n",
        "        HumanMessage(content=\"Yes, please.\"),\n",
        "        AIMessage(content=\"Awesome! Here’s the link to apply. It’s quick and easy. Let me know if you need help!\")\n",
        "    ]\n",
        ")"
      ]
    },
    {
      "cell_type": "code",
      "execution_count": 14,
      "metadata": {
        "colab": {
          "referenced_widgets": [
            "2cf173f17fa14d6e8263f63689c2fc27"
          ]
        },
        "id": "kLtldSBnAed0",
        "outputId": "b094a176-e26d-4f58-bdb2-059f358764a6"
      },
      "outputs": [
        {
          "data": {
            "application/vnd.jupyter.widget-view+json": {
              "model_id": "af8c6765fadc4c8db7a2692935a24f4e",
              "version_major": 2,
              "version_minor": 0
            },
            "text/plain": [
              "Evaluating:   0%|          | 0/1 [00:00<?, ?it/s]"
            ]
          },
          "metadata": {},
          "output_type": "display_data"
        },
        {
          "data": {
            "text/html": [
              "<div>\n",
              "<style scoped>\n",
              "    .dataframe tbody tr th:only-of-type {\n",
              "        vertical-align: middle;\n",
              "    }\n",
              "\n",
              "    .dataframe tbody tr th {\n",
              "        vertical-align: top;\n",
              "    }\n",
              "\n",
              "    .dataframe thead th {\n",
              "        text-align: right;\n",
              "    }\n",
              "</style>\n",
              "<table border=\"1\" class=\"dataframe\">\n",
              "  <thead>\n",
              "    <tr style=\"text-align: right;\">\n",
              "      <th></th>\n",
              "      <th>user_input</th>\n",
              "      <th>Brand Voice Metric(aspect critic)</th>\n",
              "    </tr>\n",
              "  </thead>\n",
              "  <tbody>\n",
              "    <tr>\n",
              "      <th>0</th>\n",
              "      <td>[{'content': 'Hi! I want to apply for a credit...</td>\n",
              "      <td>1</td>\n",
              "    </tr>\n",
              "  </tbody>\n",
              "</table>\n",
              "</div>"
            ],
            "text/plain": [
              "                                          user_input  \\\n",
              "0  [{'content': 'Hi! I want to apply for a credit...   \n",
              "\n",
              "   Brand Voice Metric(aspect critic)  \n",
              "0                                  1  "
            ]
          },
          "execution_count": 14,
          "metadata": {},
          "output_type": "execute_result"
        }
      ],
      "source": [
        "result = evaluate(\n",
        "    dataset=EvaluationDataset(samples=[sample]),\n",
        "    metrics=[aspect_critic],\n",
        ")\n",
        "\n",
        "result.to_pandas()"
      ]
    }
  ],
  "metadata": {
    "colab": {
      "provenance": []
    },
    "kernelspec": {
      "display_name": "ragas",
      "language": "python",
      "name": "python3"
    },
    "language_info": {
      "codemirror_mode": {
        "name": "ipython",
        "version": 3
      },
      "file_extension": ".py",
      "mimetype": "text/x-python",
      "name": "python",
      "nbconvert_exporter": "python",
      "pygments_lexer": "ipython3",
      "version": "3.11.9"
    }
  },
  "nbformat": 4,
  "nbformat_minor": 0
}
