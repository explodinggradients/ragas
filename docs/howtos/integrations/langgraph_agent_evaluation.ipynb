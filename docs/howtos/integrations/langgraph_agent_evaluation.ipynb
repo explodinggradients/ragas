{
 "cells": [
  {
   "cell_type": "markdown",
   "metadata": {
    "id": "t1ub1OLYZQvz"
   },
   "source": [
    "# Building and Evaluating a ReAct Agent for Fetching Metal Prices\n",
    "\n",
    "AI agents are becoming increasingly valuable in domains like finance, e-commerce, and customer support. These agents can autonomously interact with APIs, retrieve real-time data, and perform tasks that align with user goals. Evaluating these agents is crucial to ensure they are effective, accurate, and responsive to different inputs.\n",
    "\n",
    "In this tutorial, we'll:\n",
    "\n",
    "1. Build a [ReAct agent](https://arxiv.org/abs/2210.03629) to fetch metal prices.\n",
    "2. Set up an evaluation pipeline to track key performance metrics.\n",
    "3. Run and assess the agent's effectiveness with different queries.\n",
    "\n",
    "Click the [link](https://colab.research.google.com/github/explodinggradients/ragas/blob/main/docs/howtos/integrations/langgraph_agent_evaluation.ipynb) to open the notebook in Google Colab."
   ]
  },
  {
   "cell_type": "markdown",
   "metadata": {},
   "source": [
    "## Prerequisites\n",
    "- Python 3.8+\n",
    "- Basic understanding of LangGraph, LangChain and LLMs"
   ]
  },
  {
   "cell_type": "markdown",
   "metadata": {
    "id": "Q8Ms4ngAZQv1"
   },
   "source": [
    "## Installing Ragas and Other Dependencies\n",
    "Install Ragas and Langgraph with pip:"
   ]
  },
  {
   "cell_type": "code",
   "execution_count": null,
   "metadata": {
    "colab": {
     "base_uri": "https://localhost:8080/"
    },
    "collapsed": true,
    "id": "vQk4aWbpZQv1",
    "outputId": "4af0ac60-3d1a-4e41-de6e-d33f74921845"
   },
   "outputs": [],
   "source": [
    "%pip install langgraph==0.2.44\n",
    "%pip install ragas\n",
    "%pip install nltk"
   ]
  },
  {
   "cell_type": "markdown",
   "metadata": {
    "id": "eJJ-WKWMZQv2"
   },
   "source": [
    "## Building the ReAct Agent"
   ]
  },
  {
   "cell_type": "markdown",
   "metadata": {
    "id": "lAXAIbo7ZQv2"
   },
   "source": [
    "### Initializing External Components\n",
    "To begin, you have two options for setting up the external components:\n",
    "\n",
    "1. Use a Live API Key:  \n",
    "\n",
    "    - Sign up for an account on [metals.dev](https://metals.dev/) to get your API key.  \n",
    "    \n",
    "2. Simulate the API Response:  \n",
    "\n",
    "    - Alternatively, you can use a predefined JSON object to simulate the API response. This allows you to get started more quickly without needing a live API key.  \n",
    "\n",
    "\n",
    "Choose the method that best fits your needs to proceed with the setup."
   ]
  },
  {
   "cell_type": "markdown",
   "metadata": {
    "id": "PNZijyBXZQv3"
   },
   "source": [
    "### Predefined JSON Object to simulate API response\n",
    "If you would like to quickly get started without creating an account, you can bypass the setup process and use the predefined JSON object given below that simulates the API response."
   ]
  },
  {
   "cell_type": "code",
   "execution_count": 1,
   "metadata": {
    "id": "puMC36BPZQv3"
   },
   "outputs": [],
   "source": [
    "metal_price = {\n",
    "    \"gold\": 88.1553,\n",
    "    \"silver\": 1.0523,\n",
    "    \"platinum\": 32.169,\n",
    "    \"palladium\": 35.8252,\n",
    "    \"lbma_gold_am\": 88.3294,\n",
    "    \"lbma_gold_pm\": 88.2313,\n",
    "    \"lbma_silver\": 1.0545,\n",
    "    \"lbma_platinum_am\": 31.99,\n",
    "    \"lbma_platinum_pm\": 32.2793,\n",
    "    \"lbma_palladium_am\": 36.0088,\n",
    "    \"lbma_palladium_pm\": 36.2017,\n",
    "    \"mcx_gold\": 93.2689,\n",
    "    \"mcx_gold_am\": 94.281,\n",
    "    \"mcx_gold_pm\": 94.1764,\n",
    "    \"mcx_silver\": 1.125,\n",
    "    \"mcx_silver_am\": 1.1501,\n",
    "    \"mcx_silver_pm\": 1.1483,\n",
    "    \"ibja_gold\": 93.2713,\n",
    "    \"copper\": 0.0098,\n",
    "    \"aluminum\": 0.0026,\n",
    "    \"lead\": 0.0021,\n",
    "    \"nickel\": 0.0159,\n",
    "    \"zinc\": 0.0031,\n",
    "    \"lme_copper\": 0.0096,\n",
    "    \"lme_aluminum\": 0.0026,\n",
    "    \"lme_lead\": 0.002,\n",
    "    \"lme_nickel\": 0.0158,\n",
    "    \"lme_zinc\": 0.0031,\n",
    "}"
   ]
  },
  {
   "cell_type": "markdown",
   "metadata": {
    "id": "2SduQYJbZQv3"
   },
   "source": [
    "### Define the get_metal_price Tool\n",
    "\n",
    "The get_metal_price tool will be used by the agent to fetch the price of a specified metal. We'll create this tool using the @tool decorator from LangChain.\n",
    "\n",
    "If you want to use real-time data from the metals.dev API, you can modify the function to make a live request to the API."
   ]
  },
  {
   "cell_type": "code",
   "execution_count": 2,
   "metadata": {
    "id": "1X2TsFLfZQv3"
   },
   "outputs": [],
   "source": [
    "from langchain_core.tools import tool\n",
    "\n",
    "\n",
    "# Define the tools for the agent to use\n",
    "@tool\n",
    "def get_metal_price(metal_name: str) -> float:\n",
    "    \"\"\"Fetches the current per gram price of the specified metal.\n",
    "\n",
    "    Args:\n",
    "        metal_name : The name of the metal (e.g., 'gold', 'silver', 'platinum').\n",
    "\n",
    "    Returns:\n",
    "        float: The current price of the metal in dollars per gram.\n",
    "\n",
    "    Raises:\n",
    "        KeyError: If the specified metal is not found in the data source.\n",
    "    \"\"\"\n",
    "    try:\n",
    "        metal_name = metal_name.lower().strip()\n",
    "        if metal_name not in metal_price:\n",
    "            raise KeyError(\n",
    "                f\"Metal '{metal_name}' not found. Available metals: {', '.join(metal_price['metals'].keys())}\"\n",
    "            )\n",
    "        return metal_price[metal_name]\n",
    "    except Exception as e:\n",
    "        raise Exception(f\"Error fetching metal price: {str(e)}\")"
   ]
  },
  {
   "cell_type": "markdown",
   "metadata": {
    "id": "j85XikcLZQv4"
   },
   "source": [
    "### Binding the Tool to the LLM\n",
    "With the get_metal_price tool defined, the next step is to bind it to the ChatOpenAI model. This enables the agent to invoke the tool during its execution based on the user's requests allowing it to interact with external data and perform actions beyond its native capabilities."
   ]
  },
  {
   "cell_type": "code",
   "execution_count": 3,
   "metadata": {
    "id": "lsxVT0lUZQv4"
   },
   "outputs": [],
   "source": [
    "from langchain_openai import ChatOpenAI\n",
    "\n",
    "tools = [get_metal_price]\n",
    "llm = ChatOpenAI(model=\"gpt-4o-mini\")\n",
    "llm_with_tools = llm.bind_tools(tools)"
   ]
  },
  {
   "cell_type": "markdown",
   "metadata": {
    "id": "yuDuSrmQZQv4"
   },
   "source": [
    "In LangGraph, state plays a crucial role in tracking and updating information as the graph executes. As different parts of the graph run, the state evolves to reflect the changes and contains information that is passed between nodes.\n",
    "\n",
    "For example, in a conversational system like this one, the state is used to track the exchanged messages. Each time a new message is generated, it is added to the state and the updated state is passed through the nodes, ensuring the conversation progresses logically.\n",
    "\n",
    "### Defining the State\n",
    "To implement this in LangGraph, we define a state class that maintains a list of messages. Whenever a new message is produced it gets appended to this list, ensuring that the conversation history is continuously updated."
   ]
  },
  {
   "cell_type": "code",
   "execution_count": 4,
   "metadata": {
    "id": "JHHXxYT1ZQv4"
   },
   "outputs": [],
   "source": [
    "from langgraph.graph import END\n",
    "from langchain_core.messages import AnyMessage\n",
    "from langgraph.graph.message import add_messages\n",
    "from typing import Annotated\n",
    "from typing_extensions import TypedDict\n",
    "\n",
    "\n",
    "class GraphState(TypedDict):\n",
    "    messages: Annotated[list[AnyMessage], add_messages]"
   ]
  },
  {
   "cell_type": "markdown",
   "metadata": {
    "id": "1KGbjrAOZQv4"
   },
   "source": [
    "### Defining the should_continue Function\n",
    "The `should_continue` function determines whether the conversation should proceed with further tool interactions or end. Specifically, it checks if the last message contains any tool calls (e.g., a request for metal prices).\n",
    "\n",
    "- If the last message includes tool calls, indicating that the agent has invoked an external tool, the conversation continues and moves to the \"tools\" node.\n",
    "- If there are no tool calls, the conversation ends, represented by the END state."
   ]
  },
  {
   "cell_type": "code",
   "execution_count": 5,
   "metadata": {
    "id": "KjppKPRDZQv4"
   },
   "outputs": [],
   "source": [
    "# Define the function that determines whether to continue or not\n",
    "def should_continue(state: GraphState):\n",
    "    messages = state[\"messages\"]\n",
    "    last_message = messages[-1]\n",
    "    if last_message.tool_calls:\n",
    "        return \"tools\"\n",
    "    return END"
   ]
  },
  {
   "cell_type": "markdown",
   "metadata": {
    "id": "ZbyJRNRvZQv4"
   },
   "source": [
    "### Calling the Model\n",
    "The `call_model` function interacts with the Language Model (LLM) to generate a response based on the current state of the conversation. It takes the updated state as input, processes it and returns a model-generated response."
   ]
  },
  {
   "cell_type": "code",
   "execution_count": 6,
   "metadata": {
    "id": "ZYflc7eZZQv4"
   },
   "outputs": [],
   "source": [
    "# Define the function that calls the model\n",
    "def call_model(state: GraphState):\n",
    "    messages = state[\"messages\"]\n",
    "    response = llm_with_tools.invoke(messages)\n",
    "    return {\"messages\": [response]}"
   ]
  },
  {
   "cell_type": "markdown",
   "metadata": {
    "id": "VzxIHVa2ZQv4"
   },
   "source": [
    "### Creating the Assistant Node\n",
    "The `assistant` node is a key component responsible for processing the current state of the conversation and using the Language Model (LLM) to generate a relevant response. It evaluates the state, determines the appropriate course of action, and invokes the LLM to produce a response that aligns with the ongoing dialogue."
   ]
  },
  {
   "cell_type": "code",
   "execution_count": 7,
   "metadata": {
    "id": "_fPD6W2SZQv4"
   },
   "outputs": [],
   "source": [
    "# Node\n",
    "def assistant(state: GraphState):\n",
    "    response = llm_with_tools.invoke(state[\"messages\"])\n",
    "    return {\"messages\": [response]}"
   ]
  },
  {
   "cell_type": "markdown",
   "metadata": {
    "id": "Vc3No3agZQv5"
   },
   "source": [
    "### Creating the Tool Node\n",
    "The `tool_node` is responsible for managing interactions with external tools, such as fetching metal prices or performing other actions beyond the LLM's native capabilities. The tools themselves are defined earlier in the code, and the tool_node invokes these tools based on the current state and the needs of the conversation."
   ]
  },
  {
   "cell_type": "code",
   "execution_count": 8,
   "metadata": {
    "id": "vz2qlceBZQv5"
   },
   "outputs": [],
   "source": [
    "from langgraph.prebuilt import ToolNode\n",
    "\n",
    "# Node\n",
    "tools = [get_metal_price]\n",
    "tool_node = ToolNode(tools)"
   ]
  },
  {
   "cell_type": "markdown",
   "metadata": {
    "id": "M2FWZfGFZQv5"
   },
   "source": [
    "### Building the Graph\n",
    "The graph structure is the backbone of the agentic workflow, consisting of interconnected nodes and edges. To construct this graph, we use the StateGraph builder which allows us to define and connect various nodes. Each node represents a step in the process (e.g., the assistant node, tool node) and the edges dictate the flow of execution between these steps."
   ]
  },
  {
   "cell_type": "code",
   "execution_count": 9,
   "metadata": {
    "colab": {
     "base_uri": "https://localhost:8080/",
     "height": 266
    },
    "id": "FeGI8G3KZQv5",
    "outputId": "4575b3ed-e162-4419-f44f-ff0086aaf546"
   },
   "outputs": [
    {
     "data": {
      "image/jpeg": "[encoded data removed]",
      "text/plain": [
       "<IPython.core.display.Image object>"
      ]
     },
     "metadata": {},
     "output_type": "display_data"
    }
   ],
   "source": [
    "from langgraph.graph import START, StateGraph\n",
    "from IPython.display import Image, display\n",
    "\n",
    "# Define a new graph for the agent\n",
    "builder = StateGraph(GraphState)\n",
    "\n",
    "# Define the two nodes we will cycle between\n",
    "builder.add_node(\"assistant\", assistant)\n",
    "builder.add_node(\"tools\", tool_node)\n",
    "\n",
    "# Set the entrypoint as `agent`\n",
    "builder.add_edge(START, \"assistant\")\n",
    "\n",
    "# Making a conditional edge\n",
    "# should_continue will determine which node is called next.\n",
    "builder.add_conditional_edges(\"assistant\", should_continue, [\"tools\", END])\n",
    "\n",
    "# Making a normal edge from `tools` to `agent`.\n",
    "# The `agent` node will be called after the `tool`.\n",
    "builder.add_edge(\"tools\", \"assistant\")\n",
    "\n",
    "# Compile and display the graph for a visual overview\n",
    "react_graph = builder.compile()\n",
    "display(Image(react_graph.get_graph(xray=True).draw_mermaid_png()))"
   ]
  },
  {
   "cell_type": "markdown",
   "metadata": {
    "id": "wlNB4fI4ZQv5"
   },
   "source": [
    "To test our setup, we will run the agent with a query. The agent will fetch the price of copper using the metals.dev API."
   ]
  },
  {
   "cell_type": "code",
   "execution_count": 10,
   "metadata": {
    "id": "rzt0I-n2ZQv5"
   },
   "outputs": [],
   "source": [
    "from langchain_core.messages import HumanMessage\n",
    "\n",
    "messages = [HumanMessage(content=\"What is the price of copper?\")]\n",
    "result = react_graph.invoke({\"messages\": messages})"
   ]
  },
  {
   "cell_type": "code",
   "execution_count": 11,
   "metadata": {
    "colab": {
     "base_uri": "https://localhost:8080/"
    },
    "id": "esoHsop8ZQv5",
    "outputId": "0d52f2db-f2da-4f5a-943e-e549b731f01e"
   },
   "outputs": [
    {
     "data": {
      "text/plain": [
       "[HumanMessage(content='What is the price of copper?', id='4122f5d4-e298-49e8-a0e0-c98adda78c6c'),\n",
       " AIMessage(content='', additional_kwargs={'tool_calls': [{'id': 'call_DkVQBK4UMgiXrpguUS2qC4mA', 'function': {'arguments': '{\"metal_name\":\"copper\"}', 'name': 'get_metal_price'}, 'type': 'function'}]}, response_metadata={'token_usage': {'completion_tokens': 18, 'prompt_tokens': 116, 'total_tokens': 134, 'prompt_tokens_details': {'cached_tokens': 0, 'audio_tokens': 0}, 'completion_tokens_details': {'reasoning_tokens': 0, 'audio_tokens': 0, 'accepted_prediction_tokens': 0, 'rejected_prediction_tokens': 0}}, 'model_name': 'gpt-4o-mini-2024-07-18', 'system_fingerprint': 'fp_0ba0d124f1', 'finish_reason': 'tool_calls', 'logprobs': None}, id='run-0f77b156-e43e-4c1e-bd3a-307333eefb68-0', tool_calls=[{'name': 'get_metal_price', 'args': {'metal_name': 'copper'}, 'id': 'call_DkVQBK4UMgiXrpguUS2qC4mA', 'type': 'tool_call'}], usage_metadata={'input_tokens': 116, 'output_tokens': 18, 'total_tokens': 134}),\n",
       " ToolMessage(content='0.0098', name='get_metal_price', id='422c089a-6b76-4e48-952f-8925c3700ae3', tool_call_id='call_DkVQBK4UMgiXrpguUS2qC4mA'),\n",
       " AIMessage(content='The price of copper is $0.0098 per gram.', response_metadata={'token_usage': {'completion_tokens': 14, 'prompt_tokens': 148, 'total_tokens': 162, 'prompt_tokens_details': {'cached_tokens': 0, 'audio_tokens': 0}, 'completion_tokens_details': {'reasoning_tokens': 0, 'audio_tokens': 0, 'accepted_prediction_tokens': 0, 'rejected_prediction_tokens': 0}}, 'model_name': 'gpt-4o-mini-2024-07-18', 'system_fingerprint': 'fp_0ba0d124f1', 'finish_reason': 'stop', 'logprobs': None}, id='run-67cbf98b-4fa6-431e-9ce4-58697a76c36e-0', usage_metadata={'input_tokens': 148, 'output_tokens': 14, 'total_tokens': 162})]"
      ]
     },
     "execution_count": 11,
     "metadata": {},
     "output_type": "execute_result"
    }
   ],
   "source": [
    "result[\"messages\"]"
   ]
  },
  {
   "cell_type": "markdown",
   "metadata": {
    "id": "wsK_VEDSZQv6"
   },
   "source": [
    "### Converting Messages to Ragas Evaluation Format\n",
    "\n",
    "In the current implementation, the GraphState stores messages exchanged between the human user, the AI (LLM's responses), and any external tools (APIs or services the AI uses) in a list. Each message is an object in LangChain's format\n",
    "\n",
    "```python\n",
    "# Implementation of Graph State\n",
    "class GraphState(TypedDict):\n",
    "    messages: Annotated[list[AnyMessage], add_messages]\n",
    "```\n",
    "\n",
    "Each time a message is exchanged during agent execution, it gets added to the messages list in the GraphState. However, Ragas requires a specific message format for evaluating interactions.\n",
    "\n",
    "Ragas uses its own format to evaluate agent interactions. So, if you're using LangGraph, you will need to convert the LangChain message objects into Ragas message objects. This allows you to evaluate your AI agents with Ragas’ built-in evaluation tools.\n",
    "\n",
    "**Goal:**  Convert the list of LangChain messages (e.g., HumanMessage, AIMessage, and ToolMessage) into the format expected by Ragas, so the evaluation framework can understand and process them properly."
   ]
  },
  {
   "cell_type": "markdown",
   "metadata": {},
   "source": [
    "To convert a list of LangChain messages into a format suitable for Ragas evaluation, Ragas provides the function [convert_to_ragas_messages][ragas.integrations.langgraph.convert_to_ragas_messages], which can be used to transform LangChain messages into the format expected by Ragas.\n",
    "\n",
    "Here's how you can use the function:"
   ]
  },
  {
   "cell_type": "code",
   "execution_count": 12,
   "metadata": {},
   "outputs": [],
   "source": [
    "from ragas.integrations.langgraph import convert_to_ragas_messages\n",
    "\n",
    "# Assuming 'result[\"messages\"]' contains the list of LangChain messages\n",
    "ragas_trace = convert_to_ragas_messages(result[\"messages\"])"
   ]
  },
  {
   "cell_type": "code",
   "execution_count": 13,
   "metadata": {},
   "outputs": [
    {
     "data": {
      "text/plain": [
       "[HumanMessage(content='What is the price of copper?', metadata=None, type='human'),\n",
       " AIMessage(content='', metadata=None, type='ai', tool_calls=[ToolCall(name='get_metal_price', args={'metal_name': 'copper'})]),\n",
       " ToolMessage(content='0.0098', metadata=None, type='tool'),\n",
       " AIMessage(content='The price of copper is $0.0098 per gram.', metadata=None, type='ai', tool_calls=None)]"
      ]
     },
     "execution_count": 13,
     "metadata": {},
     "output_type": "execute_result"
    }
   ],
   "source": [
    "ragas_trace  # List of Ragas messages"
   ]
  },
  {
   "cell_type": "markdown",
   "metadata": {
    "id": "n5mbTp5aZQv6"
   },
   "source": [
    "## Evaluating the Agent's Performance"
   ]
  },
  {
   "cell_type": "markdown",
   "metadata": {
    "id": "H885v5sxZQv6"
   },
   "source": [
    "For this tutorial, let us evaluate the Agent with the following metrics:\n",
    "\n",
    "- [Tool call Accuracy](https://docs.ragas.io/en/stable/concepts/metrics/available_metrics/agents/#tool-call-accuracy):ToolCallAccuracy is a metric that can be used to evaluate the performance of the LLM in identifying and calling the required tools to complete a given task.  \n",
    "\n",
    "- [Agent Goal accuracy](https://docs.ragas.io/en/stable/concepts/metrics/available_metrics/agents/#agent-goal-accuracy): Agent goal accuracy is a metric that can be used to evaluate the performance of the LLM in identifying and achieving the goals of the user. This is a binary metric, with 1 indicating that the AI has achieved the goal and 0 indicating that the AI has not achieved the goal.\n",
    "\n",
    "\n",
    "First, let us actually run our Agent with a couple of queries, and make sure we have the ground truth labels for these queries."
   ]
  },
  {
   "cell_type": "markdown",
   "metadata": {
    "id": "7kRRIyTAZQv6"
   },
   "source": [
    "### Tool Call Accuracy"
   ]
  },
  {
   "cell_type": "code",
   "execution_count": 14,
   "metadata": {
    "colab": {
     "base_uri": "https://localhost:8080/"
    },
    "id": "CC973Yq1ZQv6",
    "outputId": "d5bf508d-f3ba-4f2e-a4c6-e6efbf229603"
   },
   "outputs": [
    {
     "data": {
      "text/plain": [
       "1.0"
      ]
     },
     "execution_count": 14,
     "metadata": {},
     "output_type": "execute_result"
    }
   ],
   "source": [
    "from ragas.metrics import ToolCallAccuracy\n",
    "from ragas.dataset_schema import MultiTurnSample\n",
    "from ragas.integrations.langgraph import convert_to_ragas_messages\n",
    "import ragas.messages as r\n",
    "\n",
    "\n",
    "ragas_trace = convert_to_ragas_messages(\n",
    "    messages=result[\"messages\"]\n",
    ")  # List of Ragas messages converted using the Ragas function\n",
    "\n",
    "sample = MultiTurnSample(\n",
    "    user_input=ragas_trace,\n",
    "    reference_tool_calls=[\n",
    "        r.ToolCall(name=\"get_metal_price\", args={\"metal_name\": \"copper\"})\n",
    "    ],\n",
    ")\n",
    "\n",
    "tool_accuracy_scorer = ToolCallAccuracy()\n",
    "await tool_accuracy_scorer.multi_turn_ascore(sample)"
   ]
  },
  {
   "cell_type": "markdown",
   "metadata": {},
   "source": [
    "Tool Call Accuracy: 1, because the LLM correctly identified and used the necessary tool (get_metal_price) with the correct parameters (i.e., metal name as \"copper\")."
   ]
  },
  {
   "cell_type": "markdown",
   "metadata": {
    "id": "rGOL1CBsZQv6"
   },
   "source": [
    "### Agent Goal Accuracy"
   ]
  },
  {
   "cell_type": "code",
   "execution_count": 15,
   "metadata": {
    "id": "FA0kMvTfZQwB"
   },
   "outputs": [],
   "source": [
    "messages = [HumanMessage(content=\"What is the price of 10 grams of silver?\")]\n",
    "\n",
    "result = react_graph.invoke({\"messages\": messages})"
   ]
  },
  {
   "cell_type": "code",
   "execution_count": 16,
   "metadata": {
    "colab": {
     "base_uri": "https://localhost:8080/"
    },
    "id": "YJr4Hxn8ZQwB",
    "outputId": "9797c93b-47a2-4264-b535-f182effb396b"
   },
   "outputs": [
    {
     "data": {
      "text/plain": [
       "[HumanMessage(content='What is the price of 10 grams of silver?', id='51a469de-5b7c-4d01-ab71-f8db64c8da49'),\n",
       " AIMessage(content='', additional_kwargs={'tool_calls': [{'id': 'call_rdplOo95CRwo3mZcPu4dmNxG', 'function': {'arguments': '{\"metal_name\":\"silver\"}', 'name': 'get_metal_price'}, 'type': 'function'}]}, response_metadata={'token_usage': {'completion_tokens': 17, 'prompt_tokens': 120, 'total_tokens': 137, 'prompt_tokens_details': {'cached_tokens': 0, 'audio_tokens': 0}, 'completion_tokens_details': {'reasoning_tokens': 0, 'audio_tokens': 0, 'accepted_prediction_tokens': 0, 'rejected_prediction_tokens': 0}}, 'model_name': 'gpt-4o-mini-2024-07-18', 'system_fingerprint': 'fp_0ba0d124f1', 'finish_reason': 'tool_calls', 'logprobs': None}, id='run-3bb60e27-1275-41f1-a46e-03f77984c9d8-0', tool_calls=[{'name': 'get_metal_price', 'args': {'metal_name': 'silver'}, 'id': 'call_rdplOo95CRwo3mZcPu4dmNxG', 'type': 'tool_call'}], usage_metadata={'input_tokens': 120, 'output_tokens': 17, 'total_tokens': 137}),\n",
       " ToolMessage(content='1.0523', name='get_metal_price', id='0b5f9260-df26-4164-b042-6df2e869adfb', tool_call_id='call_rdplOo95CRwo3mZcPu4dmNxG'),\n",
       " AIMessage(content='The current price of silver is approximately $1.0523 per gram. Therefore, the price of 10 grams of silver would be about $10.52.', response_metadata={'token_usage': {'completion_tokens': 34, 'prompt_tokens': 151, 'total_tokens': 185, 'prompt_tokens_details': {'cached_tokens': 0, 'audio_tokens': 0}, 'completion_tokens_details': {'reasoning_tokens': 0, 'audio_tokens': 0, 'accepted_prediction_tokens': 0, 'rejected_prediction_tokens': 0}}, 'model_name': 'gpt-4o-mini-2024-07-18', 'system_fingerprint': 'fp_0ba0d124f1', 'finish_reason': 'stop', 'logprobs': None}, id='run-93e38f71-cc9d-41d6-812a-bfad9f9231b2-0', usage_metadata={'input_tokens': 151, 'output_tokens': 34, 'total_tokens': 185})]"
      ]
     },
     "execution_count": 16,
     "metadata": {},
     "output_type": "execute_result"
    }
   ],
   "source": [
    "result[\"messages\"]  # List of Langchain messages"
   ]
  },
  {
   "cell_type": "code",
   "execution_count": 17,
   "metadata": {
    "colab": {
     "base_uri": "https://localhost:8080/"
    },
    "id": "StDNqR2vZQwB",
    "outputId": "47e914a4-3e48-4932-8b20-752441b42fd4"
   },
   "outputs": [
    {
     "data": {
      "text/plain": [
       "[HumanMessage(content='What is the price of 10 grams of silver?', metadata=None, type='human'),\n",
       " AIMessage(content='', metadata=None, type='ai', tool_calls=[ToolCall(name='get_metal_price', args={'metal_name': 'silver'})]),\n",
       " ToolMessage(content='1.0523', metadata=None, type='tool'),\n",
       " AIMessage(content='The current price of silver is approximately $1.0523 per gram. Therefore, the price of 10 grams of silver would be about $10.52.', metadata=None, type='ai', tool_calls=None)]"
      ]
     },
     "execution_count": 17,
     "metadata": {},
     "output_type": "execute_result"
    }
   ],
   "source": [
    "from ragas.integrations.langgraph import convert_to_ragas_messages\n",
    "\n",
    "ragas_trace = convert_to_ragas_messages(\n",
    "    result[\"messages\"]\n",
    ")  # List of Ragas messages converted using the Ragas function\n",
    "ragas_trace"
   ]
  },
  {
   "cell_type": "code",
   "execution_count": 18,
   "metadata": {
    "colab": {
     "base_uri": "https://localhost:8080/"
    },
    "id": "c6u9-RYdZQwB",
    "outputId": "ebf8fdd8-88fc-47c3-e1e2-b401956c0633"
   },
   "outputs": [
    {
     "data": {
      "text/plain": [
       "1.0"
      ]
     },
     "execution_count": 18,
     "metadata": {},
     "output_type": "execute_result"
    }
   ],
   "source": [
    "from ragas.dataset_schema import MultiTurnSample\n",
    "from ragas.metrics import AgentGoalAccuracyWithReference\n",
    "from ragas.llms import LangchainLLMWrapper\n",
    "\n",
    "\n",
    "sample = MultiTurnSample(\n",
    "    user_input=ragas_trace,\n",
    "    reference=\"Price of 10 grams of silver\",\n",
    ")\n",
    "\n",
    "scorer = AgentGoalAccuracyWithReference()\n",
    "\n",
    "evaluator_llm = LangchainLLMWrapper(ChatOpenAI(model=\"gpt-4o-mini\"))\n",
    "scorer.llm = evaluator_llm\n",
    "await scorer.multi_turn_ascore(sample)"
   ]
  },
  {
   "cell_type": "markdown",
   "metadata": {},
   "source": [
    "Agent Goal Accuracy: 1, because the LLM correctly achieved the user’s goal of retrieving the price of 10 grams of silver."
   ]
  },
  {
   "cell_type": "markdown",
   "metadata": {
    "id": "18wmDI0xZQwB"
   },
   "source": [
    "## What’s next\n",
    "🎉 Congratulations! We have learned how to evaluate an agent using the Ragas evaluation framework."
   ]
  }
 ],
 "metadata": {
  "colab": {
   "provenance": [],
   "toc_visible": true
  },
  "kernelspec": {
   "display_name": "ragas",
   "language": "python",
   "name": "python3"
  },
  "language_info": {
   "codemirror_mode": {
    "name": "ipython",
    "version": 3
   },
   "file_extension": ".py",
   "mimetype": "text/x-python",
   "name": "python",
   "nbconvert_exporter": "python",
   "pygments_lexer": "ipython3",
   "version": "3.11.9"
  }
 },
 "nbformat": 4,
 "nbformat_minor": 0
}
