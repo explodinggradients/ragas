{
 "cells": [
  {
   "cell_type": "markdown",
   "id": "59afff51",
   "metadata": {},
   "source": [
    "# Getting Started\n",
    "\n",
    "> An introduction to using the experimental features of Ragas"
   ]
  },
  {
   "cell_type": "code",
   "execution_count": 1,
   "id": "2f61bb1c",
   "metadata": {},
   "outputs": [
    {
     "name": "stderr",
     "output_type": "stream",
     "text": [
      "/Users/jjmachan/workspace/eglabs/ragas/.venv/lib/python3.12/site-packages/tqdm/auto.py:21: TqdmWarning: IProgress not found. Please update jupyter and ipywidgets. See https://ipywidgets.readthedocs.io/en/stable/user_install.html\n",
      "  from .autonotebook import tqdm as notebook_tqdm\n"
     ]
    }
   ],
   "source": [
    "from ragas_experimental.utils import get_test_directory"
   ]
  },
  {
   "cell_type": "code",
   "execution_count": 2,
   "id": "7f07237a",
   "metadata": {},
   "outputs": [],
   "source": [
    "from ragas_experimental import Project"
   ]
  },
  {
   "cell_type": "code",
   "execution_count": 3,
   "id": "8ed0453c",
   "metadata": {},
   "outputs": [
    {
     "data": {
      "text/plain": [
       "'/var/folders/2y/02fp70k56p75ldrkgtx7z10r0000gn/T/ragas_test_dWkFywl8UuaC'"
      ]
     },
     "execution_count": 3,
     "metadata": {},
     "output_type": "execute_result"
    }
   ],
   "source": [
    "root_dir = get_test_directory()\n",
    "root_dir"
   ]
  },
  {
   "cell_type": "code",
   "execution_count": 4,
   "id": "90ef5613",
   "metadata": {},
   "outputs": [
    {
     "data": {
      "text/plain": [
       "<ragas_experimental.project.core.Project at 0x13021e4b0>"
      ]
     },
     "execution_count": 4,
     "metadata": {},
     "output_type": "execute_result"
    }
   ],
   "source": [
    "p = Project(\n",
    "    project_id=\"test\",\n",
    "    backend=\"local\",\n",
    "    root_dir=root_dir,\n",
    ")\n",
    "\n",
    "p"
   ]
  },
  {
   "cell_type": "code",
   "execution_count": 5,
   "id": "12eeeebb",
   "metadata": {},
   "outputs": [],
   "source": [
    "from ragas_experimental import BaseModel\n",
    "import typing as t\n",
    "\n",
    "class TestDataRow(BaseModel):\n",
    "    id: t.Optional[int]\n",
    "    query: str\n",
    "    persona: t.List[t.Literal[\"opt1\", \"opt2\", \"opt3\"]]"
   ]
  },
  {
   "cell_type": "code",
   "execution_count": 6,
   "id": "94c7339d",
   "metadata": {},
   "outputs": [
    {
     "data": {
      "text/plain": [
       "Dataset(name='test_dataset', model=TestDataRow, len=0)"
      ]
     },
     "execution_count": 6,
     "metadata": {},
     "output_type": "execute_result"
    }
   ],
   "source": [
    "dataset = p.create_dataset(\n",
    "    name=\"test_dataset\",\n",
    "    model=TestDataRow,\n",
    ")\n",
    "\n",
    "dataset"
   ]
  },
  {
   "cell_type": "code",
   "execution_count": 7,
   "id": "7b039a42",
   "metadata": {},
   "outputs": [
    {
     "data": {
      "text/plain": [
       "Dataset(name='test_dataset', model=TestDataRow, len=3)"
      ]
     },
     "execution_count": 7,
     "metadata": {},
     "output_type": "execute_result"
    }
   ],
   "source": [
    "for i in range(3):\n",
    "    row = TestDataRow(id=i, query=f\"query_{i}\", persona=[\"opt1\"])\n",
    "    dataset.append(row)\n",
    "\n",
    "dataset"
   ]
  },
  {
   "cell_type": "code",
   "execution_count": 8,
   "id": "9261ba72",
   "metadata": {},
   "outputs": [],
   "source": [
    "from ragas_experimental.metric import MetricResult\n",
    "\n",
    "class ExperimentDataRow(TestDataRow):\n",
    "    response: str \n",
    "    metrics: t.List[MetricResult]\n",
    "\n",
    "\n",
    "@p.experiment(ExperimentDataRow)\n",
    "async def run_experiment(row: TestDataRow):\n",
    "    response = \"test\"\n",
    "    score1 = MetricResult(result=1, reason=\"score 1\")\n",
    "    score2 = MetricResult(result=0, reason=\"score 2\")\n",
    "\n",
    "    experiment_view = ExperimentDataRow(\n",
    "        id=row.id,\n",
    "        query=row.query,\n",
    "        persona=[\"opt1\"],\n",
    "        response=response,\n",
    "        metrics=[score1, score2],\n",
    "    )\n",
    "    return experiment_view"
   ]
  },
  {
   "cell_type": "code",
   "execution_count": 9,
   "id": "5baf8011",
   "metadata": {},
   "outputs": [
    {
     "name": "stderr",
     "output_type": "stream",
     "text": [
      "Running experiment: 100%|██████████| 6/6 [00:00<00:00, 6424.77it/s]\n"
     ]
    },
    {
     "data": {
      "text/plain": [
       "Experiment(name=Workshop-stoic_milner, model=ExperimentDataRow, len=3)"
      ]
     },
     "execution_count": 9,
     "metadata": {},
     "output_type": "execute_result"
    }
   ],
   "source": [
    "await run_experiment.run_async(dataset)"
   ]
  },
  {
   "cell_type": "code",
   "execution_count": null,
   "id": "6f4aae99",
   "metadata": {},
   "outputs": [],
   "source": []
  }
 ],
 "metadata": {
  "kernelspec": {
   "display_name": ".venv",
   "language": "python",
   "name": "python3"
  },
  "language_info": {
   "codemirror_mode": {
    "name": "ipython",
    "version": 3
   },
   "file_extension": ".py",
   "mimetype": "text/x-python",
   "name": "python",
   "nbconvert_exporter": "python",
   "pygments_lexer": "ipython3",
   "version": "3.12.8"
  }
 },
 "nbformat": 4,
 "nbformat_minor": 5
}
