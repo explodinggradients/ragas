{
 "cells": [
  {
   "cell_type": "markdown",
   "metadata": {},
   "source": [
    "# Explanation\n",
    "\n",
    "> Understanding-oriented documentation for Ragas Experimental"
   ]
  },
  {
   "cell_type": "code",
   "execution_count": null,
   "metadata": {},
   "source": [
    "#| hide\n",
    "from ragas_experimental import *"
   ],
   "outputs": []
  },
  {
   "cell_type": "markdown",
   "metadata": {},
   "source": [
    "## Welcome to Explanation Section\n",
    "\n",
    "The explanation section provides understanding-oriented documentation about Ragas Experimental. Here you'll find in-depth discussions about concepts, architecture decisions, and the theoretical foundation of the library.\n",
    "\n",
    "Unlike tutorials or how-to guides, these documents focus on explaining why things work the way they do and the underlying principles.\n",
    "\n",
    "### Available Explanations\n",
    "\n",
    "- Pydantic Models in Ragas\n",
    "- Type System Overview\n",
    "- Prompt Engineering Architecture"
   ]
  }
 ],
 "metadata": {
  "kernelspec": {
   "display_name": "Python 3",
   "language": "python",
   "name": "python3"
  }
 },
 "nbformat": 4,
 "nbformat_minor": 5
}