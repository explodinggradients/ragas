{
 "cells": [
  {
   "cell_type": "markdown",
   "metadata": {},
   "source": [
    "# How-To Guides\n",
    "\n",
    "> Problem-oriented guides for Ragas Experimental"
   ]
  },
  {
   "cell_type": "code",
   "execution_count": null,
   "metadata": {},
   "source": [
    "#| hide\n",
    "from ragas_experimental import *"
   ],
   "outputs": []
  },
  {
   "cell_type": "markdown",
   "metadata": {},
   "source": [
    "## Welcome to How-To Guides\n",
    "\n",
    "How-To Guides are problem-oriented materials designed to help you accomplish specific tasks with Ragas Experimental.\n",
    "\n",
    "Each guide addresses a specific use case or problem, providing clear instructions and code examples to implement solutions.\n",
    "\n",
    "### Available How-To Guides\n",
    "\n",
    "- Working with Datasets\n",
    "- Setting Up Experiments\n",
    "- Tracing with Langfuse\n",
    "- Using Backend Services\n",
    "- Implementing Dynamic Few-Shot Learning"
   ]
  }
 ],
 "metadata": {
  "kernelspec": {
   "display_name": "Python 3",
   "language": "python",
   "name": "python3"
  }
 },
 "nbformat": 4,
 "nbformat_minor": 5
}