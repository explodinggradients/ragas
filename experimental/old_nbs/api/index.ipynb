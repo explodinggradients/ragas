{
 "cells": [
  {
   "cell_type": "markdown",
   "metadata": {},
   "source": [
    "# Ragas Experimental\n",
    "\n",
    "> Experimental Ragas Evaluation UI and Library"
   ]
  },
  {
   "cell_type": "markdown",
   "metadata": {},
   "source": [
    "## Usage"
   ]
  },
  {
   "cell_type": "markdown",
   "metadata": {},
   "source": [
    "### Installation"
   ]
  },
  {
   "cell_type": "markdown",
   "metadata": {},
   "source": [
    "Install latest from the GitHub [repository][repo]:\n",
    "\n",
    "```sh\n",
    "$ pip install git+https://github.com/explodinggradients/ragas_experimental.git\n",
    "```\n",
    "\n",
    "or from [pypi][pypi]\n",
    "\n",
    "\n",
    "```sh\n",
    "$ pip install ragas_experimental\n",
    "```\n",
    "\n",
    "\n",
    "[repo]: https://github.com/explodinggradients/ragas_experimental\n",
    "[docs]: https://explodinggradients.github.io/ragas_experimental/\n",
    "[pypi]: https://pypi.org/project/ragas_experimental/"
   ]
  },
  {
   "cell_type": "markdown",
   "metadata": {},
   "source": [
    "## Getting Started"
   ]
  },
  {
   "cell_type": "markdown",
   "metadata": {},
   "source": [
    "First do signup to [beta.app.ragas.io](https://beta.app.ragas.io/) and generate the App Token and put it in the as the env variable `RAGAS_APP_TOKEN`. "
   ]
  },
  {
   "cell_type": "code",
   "execution_count": null,
   "metadata": {},
   "outputs": [],
   "source": [
    "import os\n",
    "# ideally you load this from a .env file so as to not commit it to the repo\n",
    "os.environ[\"RAGAS_APP_TOKEN\"] = \"api-key\""
   ]
  },
  {
   "cell_type": "markdown",
   "metadata": {},
   "source": [
    "Now lets init a `Project` in the App"
   ]
  },
  {
   "cell_type": "code",
   "execution_count": null,
   "metadata": {},
   "outputs": [],
   "source": [
    "from ragas_experimental import Project\n",
    "\n",
    "project = Project.create(\"my-project\")\n",
    "project"
   ]
  }
 ],
 "metadata": {
  "kernelspec": {
   "display_name": "python3",
   "language": "python",
   "name": "python3"
  }
 },
 "nbformat": 4,
 "nbformat_minor": 4
}
