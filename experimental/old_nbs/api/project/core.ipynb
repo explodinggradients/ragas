{
 "cells": [
  {
   "cell_type": "markdown",
   "metadata": {},
   "source": [
    "# Project\n",
    "\n",
    "> Use this class to represent the AI project that we are working on and to interact with datasets and experiments in it."
   ]
  },
  {
   "cell_type": "code",
   "execution_count": 1,
   "id": "673f70be",
   "metadata": {},
   "outputs": [],
   "source": [
    "# | default_exp project.core"
   ]
  },
  {
   "cell_type": "code",
   "execution_count": 2,
   "id": "49c33521",
   "metadata": {},
   "outputs": [],
   "source": [
    "# | hide\n",
    "from nbdev.showdoc import *"
   ]
  },
  {
   "cell_type": "code",
   "execution_count": 3,
   "id": "585fc02a",
   "metadata": {},
   "outputs": [
    {
     "name": "stderr",
     "output_type": "stream",
     "text": [
      "/Users/jjmachan/workspace/eglabs/ragas/.venv/lib/python3.12/site-packages/tqdm/auto.py:21: TqdmWarning: IProgress not found. Please update jupyter and ipywidgets. See https://ipywidgets.readthedocs.io/en/stable/user_install.html\n",
      "  from .autonotebook import tqdm as notebook_tqdm\n"
     ]
    }
   ],
   "source": [
    "\n",
    "from ragas_experimental.model.notion_model import NotionModel"
   ]
  },
  {
   "cell_type": "code",
   "execution_count": 4,
   "id": "8562b7cc",
   "metadata": {},
   "outputs": [],
   "source": [
    "# | export\n",
    "import typing as t\n",
    "import os\n",
    "import asyncio\n",
    "\n",
    "from fastcore.utils import patch\n",
    "from pydantic import BaseModel\n",
    "\n",
    "from ragas_experimental.backends.factory import RagasApiClientFactory\n",
    "from ragas_experimental.backends.ragas_api_client import RagasApiClient\n",
    "import ragas_experimental.typing as rt\n",
    "from ragas_experimental.utils import async_to_sync, create_nano_id\n",
    "from ragas_experimental.dataset import Dataset\n",
    "from ragas_experimental.experiment import Experiment"
   ]
  },
  {
   "cell_type": "code",
   "execution_count": 5,
   "id": "8836d2bb",
   "metadata": {},
   "outputs": [],
   "source": [
    "# | export\n",
    "class Project:\n",
    "    def __init__(\n",
    "        self,\n",
    "        project_id: str,\n",
    "        backend: rt.SUPPORTED_BACKENDS = \"local\",\n",
    "        root_dir: t.Optional[str] = None,\n",
    "        ragas_api_client: t.Optional[RagasApiClient] = None,\n",
    "    ):\n",
    "        self.project_id = project_id\n",
    "        self.backend = backend\n",
    "        \n",
    "        if backend == \"local\":\n",
    "            if root_dir is None:\n",
    "                raise ValueError(\"root_dir is required for local backend\")\n",
    "            self._root_dir = os.path.join(root_dir, project_id)\n",
    "            # Ensure project directory structure exists\n",
    "            self._create_local_project_structure()\n",
    "        elif backend == \"ragas_app\":\n",
    "            if ragas_api_client is None:\n",
    "                self._ragas_api_client = RagasApiClientFactory.create()\n",
    "            else:\n",
    "                self._ragas_api_client = ragas_api_client\n",
    "        else:\n",
    "            raise ValueError(f\"Invalid backend: {backend}\")\n",
    "            \n",
    "        # Initialize project properties\n",
    "        if backend == \"ragas_app\":\n",
    "            try:\n",
    "                sync_version = async_to_sync(self._ragas_api_client.get_project)\n",
    "                existing_project = sync_version(project_id=self.project_id)\n",
    "                self.project_id = existing_project[\"id\"]\n",
    "                self.name = existing_project[\"title\"]\n",
    "                self.description = existing_project[\"description\"]\n",
    "            except Exception as e:\n",
    "                raise e\n",
    "        elif backend == \"local\":\n",
    "            self.name = self.project_id\n",
    "            self.description = \"\"\n",
    "    \n",
    "    def _create_local_project_structure(self):\n",
    "        \"\"\"Create the local directory structure for the project\"\"\"\n",
    "        os.makedirs(self._root_dir, exist_ok=True)\n",
    "        # Create datasets directory\n",
    "        os.makedirs(os.path.join(self._root_dir, \"datasets\"), exist_ok=True)\n",
    "        # Create experiments directory\n",
    "        os.makedirs(os.path.join(self._root_dir, \"experiments\"), exist_ok=True)"
   ]
  },
  {
   "cell_type": "code",
   "execution_count": 6,
   "id": "ca7aedc9",
   "metadata": {},
   "outputs": [],
   "source": [
    "#| export\n",
    "@patch(cls_method=True)\n",
    "def create(\n",
    "    cls: Project,\n",
    "    name: str,\n",
    "    description: str = \"\",\n",
    "    backend: rt.SUPPORTED_BACKENDS = \"local\",\n",
    "    root_dir: t.Optional[str] = None,\n",
    "    ragas_api_client: t.Optional[RagasApiClient] = None,\n",
    "):\n",
    "    if backend == \"ragas_app\":\n",
    "        ragas_api_client = ragas_api_client or RagasApiClientFactory.create()\n",
    "        sync_version = async_to_sync(ragas_api_client.create_project)\n",
    "        new_project = sync_version(title=name, description=description)\n",
    "        return cls(new_project[\"id\"], backend=\"ragas_api\", ragas_api_client=ragas_api_client)\n",
    "    elif backend == \"local\":\n",
    "        if root_dir is None:\n",
    "            raise ValueError(\"root_dir is required for local backend\")\n",
    "        # For local backend, we use the name as the project_id\n",
    "        project_id = name\n",
    "        return cls(project_id, backend=\"local\", root_dir=root_dir)"
   ]
  },
  {
   "cell_type": "code",
   "execution_count": 7,
   "id": "156e8b05",
   "metadata": {},
   "outputs": [],
   "source": [
    "from tempfile import TemporaryDirectory"
   ]
  },
  {
   "cell_type": "code",
   "execution_count": 8,
   "id": "755b526f",
   "metadata": {},
   "outputs": [],
   "source": [
    "# test local backend\n",
    "with TemporaryDirectory() as temp_dir:\n",
    "    local_project = Project.create(\n",
    "        name=\"test_local_project\",\n",
    "        description=\"A test project using local backend\",\n",
    "        backend=\"local\",\n",
    "        root_dir=temp_dir\n",
    "    )\n",
    "    \n",
    "    # assert folder exists\n",
    "    assert os.path.exists(os.path.join(temp_dir, \"test_local_project\"))\n",
    "    assert os.path.exists(os.path.join(temp_dir, \"test_local_project\", \"datasets\"))\n",
    "    assert os.path.exists(os.path.join(temp_dir, \"test_local_project\", \"experiments\"))"
   ]
  },
  {
   "cell_type": "code",
   "execution_count": 9,
   "id": "8ddcbb8a",
   "metadata": {},
   "outputs": [],
   "source": [
    "#| export\n",
    "@patch\n",
    "def delete(self: Project):\n",
    "    if self.backend == \"ragas_app\":\n",
    "        sync_version = async_to_sync(self._ragas_api_client.delete_project)\n",
    "        sync_version(project_id=self.project_id)\n",
    "        print(\"Project deleted from Ragas API!\")\n",
    "    elif self.backend == \"local\":\n",
    "        import shutil\n",
    "        # Caution: this deletes the entire project directory\n",
    "        if os.path.exists(self._root_dir):\n",
    "            shutil.rmtree(self._root_dir)\n",
    "            print(f\"Local project at {self._root_dir} deleted!\")\n",
    "        else:\n",
    "            print(f\"Local project at {self._root_dir} does not exist\")\n",
    "\n",
    "    @patch\n",
    "    def __repr__(self: Project):\n",
    "        return f\"Project(name='{self.name}', backend='{self.backend}')\""
   ]
  },
  {
   "cell_type": "code",
   "execution_count": 10,
   "id": "c2b77dc7",
   "metadata": {},
   "outputs": [
    {
     "name": "stdout",
     "output_type": "stream",
     "text": [
      "Local project at /var/folders/2y/02fp70k56p75ldrkgtx7z10r0000gn/T/tmpmjfsgyh6/test_local_project deleted!\n"
     ]
    }
   ],
   "source": [
    "# test delete\n",
    "with TemporaryDirectory() as temp_dir:\n",
    "    local_project = Project.create(\n",
    "        name=\"test_local_project\",\n",
    "        description=\"A test project using local backend\",\n",
    "        backend=\"local\",\n",
    "        root_dir=temp_dir\n",
    "    )\n",
    "    assert os.path.exists(os.path.join(temp_dir, \"test_local_project\"))\n",
    "    local_project.delete()\n",
    "    assert not os.path.exists(os.path.join(temp_dir, \"test_local_project\"))"
   ]
  },
  {
   "cell_type": "code",
   "execution_count": 11,
   "id": "0d2f1041",
   "metadata": {},
   "outputs": [],
   "source": [
    "# | export\n",
    "@patch(cls_method=True)\n",
    "def get(\n",
    "    cls: Project, \n",
    "    name: str, \n",
    "    backend: rt.SUPPORTED_BACKENDS = \"local\",\n",
    "    root_dir: t.Optional[str] = None,\n",
    "    ragas_api_client: t.Optional[RagasApiClient] = None,\n",
    ") -> Project:\n",
    "    \"\"\"Get an existing project by name.\n",
    "    \n",
    "    Args:\n",
    "        name: The name of the project to get\n",
    "        backend: The backend to use (ragas_api or local)\n",
    "        root_dir: The root directory for local backends\n",
    "        ragas_api_client: Optional custom Ragas API client\n",
    "        \n",
    "    Returns:\n",
    "        Project: The project instance\n",
    "    \"\"\"\n",
    "    if backend == \"ragas_app\":\n",
    "        # Search for project with given name in Ragas API\n",
    "        if ragas_api_client is None:\n",
    "            ragas_api_client = RagasApiClientFactory.create()\n",
    "\n",
    "        # get the project by name\n",
    "        sync_version = async_to_sync(ragas_api_client.get_project_by_name)\n",
    "        project_info = sync_version(project_name=name)\n",
    "\n",
    "        # Return Project instance\n",
    "        return Project(\n",
    "            project_id=project_info[\"id\"],\n",
    "            backend=\"ragas_app\",\n",
    "            ragas_api_client=ragas_api_client,\n",
    "        )\n",
    "    elif backend == \"local\":\n",
    "        if root_dir is None:\n",
    "            raise ValueError(\"root_dir is required for local backend\")\n",
    "            \n",
    "        # For local backend, check if project directory exists\n",
    "        project_path = os.path.join(root_dir, name)\n",
    "        if not os.path.exists(project_path):\n",
    "            raise ValueError(f\"Local project '{name}' does not exist at {project_path}\")\n",
    "            \n",
    "        # Return Project instance\n",
    "        return Project(\n",
    "            project_id=name,\n",
    "            backend=\"local\",\n",
    "            root_dir=root_dir,\n",
    "        )\n",
    "    else:\n",
    "        raise ValueError(f\"Invalid backend: {backend}\")"
   ]
  },
  {
   "cell_type": "markdown",
   "id": "ea1a2fe9",
   "metadata": {},
   "source": [
    "additional utils functions to get dataset and experiment path."
   ]
  },
  {
   "cell_type": "code",
   "execution_count": 12,
   "id": "d5994592",
   "metadata": {},
   "outputs": [],
   "source": [
    "#| export\n",
    "@patch\n",
    "def get_dataset_path(self: Project, dataset_name: str) -> str:\n",
    "    \"\"\"Get the path to a dataset file in the local backend\"\"\"\n",
    "    if self.backend != \"local\":\n",
    "        raise ValueError(\"This method is only available for local backend\")\n",
    "    return os.path.join(self._root_dir, \"datasets\", f\"{dataset_name}.csv\")\n",
    "\n",
    "@patch\n",
    "def get_experiment_path(self: Project, experiment_name: str) -> str:\n",
    "    \"\"\"Get the path to an experiment file in the local backend\"\"\"\n",
    "    if self.backend != \"local\":\n",
    "        raise ValueError(\"This method is only available for local backend\")\n",
    "    return os.path.join(self._root_dir, \"experiments\", f\"{experiment_name}.csv\")"
   ]
  },
  {
   "cell_type": "code",
   "execution_count": 13,
   "id": "591f0632",
   "metadata": {},
   "outputs": [
    {
     "name": "stdout",
     "output_type": "stream",
     "text": [
      "Created project: Project(name='test_local_project', backend='local')\n",
      "Project directory exists: True\n",
      "Datasets directory exists: True\n",
      "Experiments directory exists: True\n",
      "Retrieved project: Project(name='test_local_project', backend='local')\n",
      "Dataset path: /var/folders/2y/02fp70k56p75ldrkgtx7z10r0000gn/T/tmpzi2vmteq/test_local_project/datasets/example_dataset.csv\n",
      "Experiment path: /var/folders/2y/02fp70k56p75ldrkgtx7z10r0000gn/T/tmpzi2vmteq/test_local_project/experiments/example_experiment.csv\n"
     ]
    }
   ],
   "source": [
    "# Example of using the local backend\n",
    "import tempfile\n",
    "import os\n",
    "\n",
    "# Create a temporary directory for demonstration\n",
    "with tempfile.TemporaryDirectory() as temp_dir:\n",
    "    # Create a new project with local backend\n",
    "    local_project = Project.create(\n",
    "        name=\"test_local_project\",\n",
    "        description=\"A test project using local backend\",\n",
    "        backend=\"local\",\n",
    "        root_dir=temp_dir\n",
    "    )\n",
    "    \n",
    "    print(f\"Created project: {local_project}\")\n",
    "    \n",
    "    # Check the directory structure\n",
    "    project_path = os.path.join(temp_dir, \"test_local_project\")\n",
    "    print(f\"Project directory exists: {os.path.exists(project_path)}\")\n",
    "    print(f\"Datasets directory exists: {os.path.exists(os.path.join(project_path, 'datasets'))}\")\n",
    "    print(f\"Experiments directory exists: {os.path.exists(os.path.join(project_path, 'experiments'))}\")\n",
    "    \n",
    "    # Get the project\n",
    "    retrieved_project = Project.get(\n",
    "        name=\"test_local_project\",\n",
    "        backend=\"local\",\n",
    "        root_dir=temp_dir\n",
    "    )\n",
    "    \n",
    "    print(f\"Retrieved project: {retrieved_project}\")\n",
    "    \n",
    "    # Get paths for datasets and experiments\n",
    "    dataset_path = local_project.get_dataset_path(\"example_dataset\")\n",
    "    experiment_path = local_project.get_experiment_path(\"example_experiment\")\n",
    "    \n",
    "    print(f\"Dataset path: {dataset_path}\")\n",
    "    print(f\"Experiment path: {experiment_path}\")\n",
    "    \n",
    "    # Delete the project (not needed when using with tempfile)\n",
    "    # local_project.delete()"
   ]
  }
 ],
 "metadata": {
  "kernelspec": {
   "display_name": ".venv",
   "language": "python",
   "name": "python3"
  },
  "language_info": {
   "codemirror_mode": {
    "name": "ipython",
    "version": 3
   },
   "file_extension": ".py",
   "mimetype": "text/x-python",
   "name": "python",
   "nbconvert_exporter": "python",
   "pygments_lexer": "ipython3",
   "version": "3.12.8"
  }
 },
 "nbformat": 4,
 "nbformat_minor": 5
}
