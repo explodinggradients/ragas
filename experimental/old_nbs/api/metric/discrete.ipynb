{
 "cells": [
  {
   "cell_type": "code",
   "execution_count": null,
   "metadata": {},
   "outputs": [],
   "source": [
    "#| default_exp metric.discrete"
   ]
  },
  {
   "cell_type": "markdown",
   "metadata": {},
   "source": [
    "# DiscreteMetric\n",
    "> Base class from which all discrete metrics should inherit."
   ]
  },
  {
   "cell_type": "code",
   "execution_count": null,
   "metadata": {},
   "outputs": [],
   "source": [
    "#| export\n",
    "import typing as t\n",
    "from dataclasses import dataclass, field\n",
    "from pydantic import BaseModel, create_model\n",
    "from collections import Counter\n",
    "from ragas_experimental.metric import Metric, MetricResult\n",
    "from ragas_experimental.metric.decorator import create_metric_decorator\n",
    "\n",
    "\n",
    "@dataclass\n",
    "class DiscreteMetric(Metric):\n",
    "    values: t.List[str] = field(default_factory=lambda: [\"pass\", \"fail\"])\n",
    "    \n",
    "    def _get_response_model(self, with_reasoning: bool) -> t.Type[BaseModel]:\n",
    "        \"\"\"Get or create a response model based on reasoning parameter.\"\"\"\n",
    "        \n",
    "        if with_reasoning in self._response_models:\n",
    "            return self._response_models[with_reasoning]\n",
    "        \n",
    "        model_name = 'response_model'\n",
    "        values = tuple(self.values)\n",
    "        fields = {\"result\": (t.Literal[values], ...)}\n",
    "        \n",
    "        if with_reasoning:\n",
    "            fields[\"reason\"] = (str, ...) # type: ignore\n",
    "        \n",
    "        model = create_model(model_name, **fields)  # type: ignore\n",
    "        self._response_models[with_reasoning] = model\n",
    "        return model \n",
    "\n",
    "    def _ensemble(self,results:t.List[MetricResult]) -> MetricResult:\n",
    "\n",
    "\n",
    "        if len(results)==1:\n",
    "            return results[0]\n",
    "            \n",
    "        candidates = [candidate.result for candidate in results]\n",
    "        counter = Counter(candidates)\n",
    "        max_count = max(counter.values())\n",
    "        for candidate in results:\n",
    "            if counter[candidate.result] == max_count:\n",
    "                result = candidate.result              \n",
    "                reason = candidate.reason\n",
    "                return MetricResult(result=result, reason=reason)\n",
    "        \n",
    "        return results[0]\n",
    "\n",
    "\n",
    "discrete_metric = create_metric_decorator(DiscreteMetric)"
   ]
  },
  {
   "cell_type": "markdown",
   "metadata": {},
   "source": [
    "## Example usage"
   ]
  },
  {
   "cell_type": "code",
   "execution_count": null,
   "metadata": {},
   "outputs": [
    {
     "name": "stdout",
     "output_type": "stream",
     "text": [
      "low\n",
      "The response is incomplete and lacks any specific information. It cannot be evaluated for helpfulness without further context or content.\n"
     ]
    }
   ],
   "source": [
    "\n",
    "#| eval: false\n",
    "\n",
    "from ragas_experimental.llm import ragas_llm\n",
    "from openai import OpenAI\n",
    "\n",
    "llm = ragas_llm(provider=\"openai\",model=\"gpt-4o\",client=OpenAI())\n",
    "\n",
    "\n",
    "my_metric = DiscreteMetric(\n",
    "    llm=llm,\n",
    "    name='helpfulness',\n",
    "    prompt=\"Evaluate if given answer is helpful\\n\\n{response}\",\n",
    "    values=[\"low\",\"med\",\"high\"],\n",
    ")\n",
    "\n",
    "result = my_metric.score(response=\"this is my response\")\n",
    "print(result) #gives \"low\"\n",
    "print(result.reason) #gives reasoning from llm\n",
    "\n"
   ]
  },
  {
   "cell_type": "markdown",
   "metadata": {},
   "source": [
    "### Write custom discrete metric"
   ]
  },
  {
   "cell_type": "code",
   "execution_count": null,
   "metadata": {},
   "outputs": [
    {
     "name": "stdout",
     "output_type": "stream",
     "text": [
      "low\n",
      "The prompt 'my response' does not provide sufficient information or context for me to evaluate its helpfulness. An answer needs to be specific and provide insight or information relative to a clear question or context.\n"
     ]
    }
   ],
   "source": [
    "#| eval: false\n",
    "from ragas_experimental.metric.result import MetricResult\n",
    "\n",
    "@discrete_metric(\n",
    "    llm=llm,\n",
    "    prompt=\"Evaluate if given answer is helpful\\n\\n{response}\",\n",
    "    name='new_metric',\n",
    "    values=[\"low\",\"med\",\"high\"]\n",
    ")\n",
    "def my_metric(llm,prompt,**kwargs):\n",
    "\n",
    "        class response_model(BaseModel):\n",
    "             output: t.List[bool]\n",
    "             reason: str\n",
    "        traces = {}\n",
    "        traces['input'] = kwargs\n",
    "        response = llm.generate(prompt.format(**kwargs),response_model=response_model)\n",
    "        traces['output'] = response.model_dump()\n",
    "        total = sum(response.output)\n",
    "        if total < 1:\n",
    "            score = 'low'\n",
    "        else:\n",
    "            score = 'high'\n",
    "            \n",
    "        return MetricResult(result=score,reason=response.reason,traces=traces)\n",
    "\n",
    "result = my_metric.score(response='my response') # result\n",
    "print(result)\n",
    "print(result.reason)"
   ]
  },
  {
   "cell_type": "code",
   "execution_count": null,
   "metadata": {},
   "outputs": [],
   "source": []
  }
 ],
 "metadata": {
  "kernelspec": {
   "display_name": "python3",
   "language": "python",
   "name": "python3"
  }
 },
 "nbformat": 4,
 "nbformat_minor": 2
}
