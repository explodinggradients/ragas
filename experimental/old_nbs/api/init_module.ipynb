{
 "cells": [
  {
   "cell_type": "code",
   "execution_count": null,
   "metadata": {},
   "outputs": [],
   "source": [
    "# | default_exp __init__"
   ]
  },
  {
   "cell_type": "code",
   "execution_count": null,
   "metadata": {},
   "outputs": [],
   "source": [
    "# | export\n",
    "# Get version from setuptools_scm-generated file\n",
    "try:\n",
    "    from ._version import version as __version__\n",
    "except ImportError:\n",
    "    # Fallback for installed package\n",
    "    from importlib.metadata import version as pkg_version, PackageNotFoundError\n",
    "    try:\n",
    "        __version__ = pkg_version(\"ragas_experimental\")\n",
    "    except PackageNotFoundError:\n",
    "        __version__ = \"unknown\""
   ]
  },
  {
   "cell_type": "markdown",
   "metadata": {},
   "source": [
    "This exports to `__init__` for `RagasAnnotator` root so that we have more control over how we expose module for the users.\n",
    "\n",
    "We use setuptools_scm to get version information from Git tags."
   ]
  },
  {
   "cell_type": "code",
   "execution_count": null,
   "metadata": {},
   "outputs": [],
   "source": [
    "# | export\n",
    "from ragas_experimental.project.core import Project\n",
    "import ragas_experimental.model.notion_typing as nmt\n",
    "from ragas_experimental.model.notion_model import NotionModel\n",
    "from ragas_experimental.model.pydantic_model import ExtendedPydanticBaseModel as BaseModel\n",
    "\n",
    "# just import to run the module\n",
    "import ragas_experimental.project.datasets\n",
    "import ragas_experimental.project.experiments\n",
    "import ragas_experimental.project.comparison"
   ]
  },
  {
   "cell_type": "code",
   "execution_count": null,
   "metadata": {},
   "outputs": [],
   "source": [
    "# | export\n",
    "__all__ = [\"Project\", \"NotionModel\", \"nmt\", \"BaseModel\"]"
   ]
  },
  {
   "cell_type": "code",
   "execution_count": null,
   "metadata": {},
   "outputs": [],
   "source": []
  }
 ],
 "metadata": {
  "kernelspec": {
   "display_name": "python3",
   "language": "python",
   "name": "python3"
  }
 },
 "nbformat": 4,
 "nbformat_minor": 2
}
