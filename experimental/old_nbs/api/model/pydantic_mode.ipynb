{
 "cells": [
  {
   "cell_type": "markdown",
   "metadata": {},
   "source": [
    "# Ragas `BaseModel`\n",
    "\n",
    "> An Extended version of Pydantics `BaseModel` for some ragas specific stuff"
   ]
  },
  {
   "cell_type": "code",
   "execution_count": 1,
   "metadata": {},
   "outputs": [],
   "source": [
    "#| default_exp model.pydantic_model"
   ]
  },
  {
   "cell_type": "code",
   "execution_count": 2,
   "metadata": {},
   "outputs": [
    {
     "name": "stderr",
     "output_type": "stream",
     "text": [
      "/Users/jjmachan/workspace/eglabs/ragas/.venv/lib/python3.12/site-packages/tqdm/auto.py:21: TqdmWarning: IProgress not found. Please update jupyter and ipywidgets. See https://ipywidgets.readthedocs.io/en/stable/user_install.html\n",
      "  from .autonotebook import tqdm as notebook_tqdm\n"
     ]
    }
   ],
   "source": [
    "#| export\n",
    "import typing as t\n",
    "\n",
    "from pydantic import BaseModel, PrivateAttr\n",
    "\n",
    "from ragas_experimental.typing import FieldMeta as RagasFieldMeta"
   ]
  },
  {
   "cell_type": "code",
   "execution_count": 3,
   "metadata": {},
   "outputs": [],
   "source": [
    "#| export\n",
    "class ExtendedPydanticBaseModel(BaseModel):\n",
    "    \"\"\"Extended Pydantic BaseModel with database integration capabilities\"\"\"\n",
    "    \n",
    "    # Private attribute for storing the database row_id\n",
    "    _row_id: t.Optional[int] = PrivateAttr(default=None)\n",
    "    \n",
    "    # Class variable for storing column mapping overrides\n",
    "    __column_mapping__: t.ClassVar[t.Dict[str, str]] = {}\n",
    "    \n",
    "    def __init__(self, **data):\n",
    "        super().__init__(**data)\n",
    "        # Initialize column mapping if not already defined\n",
    "        if not self.__class__.__column_mapping__:\n",
    "            self._initialize_column_mapping()\n",
    "    \n",
    "    @classmethod\n",
    "    def _initialize_column_mapping(cls):\n",
    "        \"\"\"Initialize mapping from field names to column IDs.\"\"\"\n",
    "        for field_name, field_info in cls.model_fields.items():\n",
    "            # Check if field has Column metadata (for Pydantic v2)\n",
    "            column_id = None\n",
    "            for extra in field_info.metadata or []:\n",
    "                if isinstance(extra, RagasFieldMeta) and extra.id:\n",
    "                    column_id = extra.id\n",
    "                    break\n",
    "            \n",
    "            # If no Column metadata found, use field name as column ID\n",
    "            if not column_id:\n",
    "                column_id = field_name\n",
    "            \n",
    "            cls.__column_mapping__[field_name] = column_id\n",
    "\n",
    "            # check if the field is a MetricResult\n",
    "            if cls._is_metric_result_field(field_info.annotation):\n",
    "                # add additional mapping for the metric result\n",
    "                reason_field_name = f\"{field_name}_reason\"\n",
    "                reason_column_id = f\"{column_id}_reason\"\n",
    "                cls.__column_mapping__[reason_field_name] = reason_column_id\n",
    "\n",
    "    @staticmethod\n",
    "    def _is_metric_result_field(annotation):\n",
    "        \"\"\"Check if a field annotation represents a MetricResult.\"\"\"\n",
    "        # Direct import of MetricResult\n",
    "        from ragas_experimental.metric.result import MetricResult\n",
    "        \n",
    "        # Check if annotation is or references MetricResult\n",
    "        return (annotation is MetricResult or \n",
    "                (hasattr(annotation, \"__origin__\") and annotation.__origin__ is MetricResult) or\n",
    "                (hasattr(annotation, \"__class__\") and annotation.__class__ is MetricResult))\n",
    "    \n",
    "    @classmethod\n",
    "    def get_column_id(cls, field_name: str) -> str:\n",
    "        \"\"\"Get the column ID for a given field name.\"\"\"\n",
    "        if field_name not in cls.__column_mapping__:\n",
    "            raise ValueError(f\"No column mapping found for field {field_name}\")\n",
    "        return cls.__column_mapping__[field_name]\n",
    "    \n",
    "    @classmethod\n",
    "    def set_column_id(cls, field_name: str, column_id: str):\n",
    "        \"\"\"Set the column ID for a given field name.\"\"\"\n",
    "        if field_name not in cls.model_fields:\n",
    "            raise ValueError(f\"Field {field_name} not found in model\")\n",
    "        cls.__column_mapping__[field_name] = column_id\n",
    "    \n",
    "    def get_db_field_mapping(self) -> t.Dict[str, str]:\n",
    "        \"\"\"Get a mapping from field names to column IDs for this model.\"\"\"\n",
    "        return self.__class__.__column_mapping__\n",
    "\n"
   ]
  },
  {
   "cell_type": "code",
   "execution_count": 4,
   "metadata": {},
   "outputs": [],
   "source": [
    "import ragas_experimental.typing as rt\n",
    "from ragas_experimental.metric.result import MetricResult"
   ]
  },
  {
   "cell_type": "code",
   "execution_count": 5,
   "metadata": {},
   "outputs": [],
   "source": [
    "# Example usage\n",
    "class TestDataRow(ExtendedPydanticBaseModel):\n",
    "    id: t.Optional[int] = None\n",
    "    query: t.Annotated[str, rt.Text(id=\"search_query\")]\n",
    "    persona: t.List[t.Literal[\"opt1\", \"opt2\", \"opt3\"]]\n",
    "    result: MetricResult"
   ]
  },
  {
   "cell_type": "code",
   "execution_count": 7,
   "metadata": {},
   "outputs": [],
   "source": [
    "TestDataRow.__column_mapping__ = {}"
   ]
  },
  {
   "cell_type": "code",
   "execution_count": 8,
   "metadata": {},
   "outputs": [
    {
     "data": {
      "text/plain": [
       "TestDataRow(id=1, query='this is a test', persona=['opt1'], result=0.5)"
      ]
     },
     "execution_count": 8,
     "metadata": {},
     "output_type": "execute_result"
    }
   ],
   "source": [
    "test_data_row = TestDataRow(id=1, query=\"this is a test\", persona=[\"opt1\"], result=MetricResult(result=0.5, reason=\"test reason\"))\n",
    "test_data_row"
   ]
  },
  {
   "cell_type": "code",
   "execution_count": 9,
   "metadata": {},
   "outputs": [
    {
     "data": {
      "text/plain": [
       "{'id': 'id',\n",
       " 'query': 'search_query',\n",
       " 'persona': 'persona',\n",
       " 'result': 'result',\n",
       " 'result_reason': 'result_reason'}"
      ]
     },
     "execution_count": 9,
     "metadata": {},
     "output_type": "execute_result"
    }
   ],
   "source": [
    "test_data_row.__column_mapping__"
   ]
  },
  {
   "cell_type": "code",
   "execution_count": null,
   "metadata": {},
   "outputs": [],
   "source": [
    "# Inheritance\n",
    "class InheritedModel(TestDataRow):\n",
    "    inherited_query: str\n",
    "    query: str"
   ]
  },
  {
   "cell_type": "code",
   "execution_count": 14,
   "metadata": {},
   "outputs": [],
   "source": [
    "inherited_model = InheritedModel(id=1, query=\"this is a test\", persona=[\"opt1\"], result=MetricResult(result=0.5, reason=\"test reason\"), inherited_query=\"this is a test\")"
   ]
  },
  {
   "cell_type": "code",
   "execution_count": 12,
   "metadata": {},
   "outputs": [
    {
     "data": {
      "text/plain": [
       "1"
      ]
     },
     "execution_count": 12,
     "metadata": {},
     "output_type": "execute_result"
    }
   ],
   "source": [
    "inherited_model.id"
   ]
  },
  {
   "cell_type": "code",
   "execution_count": null,
   "metadata": {},
   "outputs": [],
   "source": []
  }
 ],
 "metadata": {
  "kernelspec": {
   "display_name": ".venv",
   "language": "python",
   "name": "python3"
  },
  "language_info": {
   "codemirror_mode": {
    "name": "ipython",
    "version": 3
   },
   "file_extension": ".py",
   "mimetype": "text/x-python",
   "name": "python",
   "nbconvert_exporter": "python",
   "pygments_lexer": "ipython3",
   "version": "3.12.8"
  }
 },
 "nbformat": 4,
 "nbformat_minor": 2
}
