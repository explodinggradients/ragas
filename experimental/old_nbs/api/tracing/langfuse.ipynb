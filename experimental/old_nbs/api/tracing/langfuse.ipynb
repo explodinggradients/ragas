{
 "cells": [
  {
   "cell_type": "markdown",
   "metadata": {},
   "source": [
    "# Langfuse Tracing\n",
    "\n",
    "> Utils to help with interact with langfuse traces"
   ]
  },
  {
   "cell_type": "code",
   "execution_count": null,
   "metadata": {},
   "outputs": [],
   "source": [
    "# | default_exp tracing.langfuse"
   ]
  },
  {
   "cell_type": "code",
   "execution_count": null,
   "metadata": {},
   "outputs": [],
   "source": [
    "# | export\n",
    "import typing as t\n",
    "import asyncio\n",
    "import logging\n",
    "from urllib.parse import urlparse, parse_qsl, urlencode, urlunparse\n",
    "\n",
    "from langfuse.api import Observation, TraceWithFullDetails\n",
    "from langfuse.decorators import langfuse_context, observe\n",
    "from langfuse.utils.langfuse_singleton import LangfuseSingleton"
   ]
  },
  {
   "cell_type": "code",
   "execution_count": null,
   "metadata": {},
   "outputs": [],
   "source": [
    "# | export\n",
    "# just adding it to the namespace\n",
    "observe = observe"
   ]
  },
  {
   "cell_type": "code",
   "execution_count": null,
   "metadata": {},
   "outputs": [],
   "source": [
    "# | export\n",
    "logger = logging.getLogger(__name__)"
   ]
  },
  {
   "cell_type": "code",
   "execution_count": null,
   "metadata": {},
   "outputs": [],
   "source": [
    "# | export\n",
    "class LangfuseTrace:\n",
    "    def __init__(self, trace: TraceWithFullDetails):\n",
    "        self.trace = trace\n",
    "        self._langfuse_client = langfuse_context.client_instance\n",
    "\n",
    "    def get_url(self):\n",
    "        return langfuse_context.get_current_trace_url()\n",
    "\n",
    "    def filter(self, span_name: str) -> t.List[Observation]:\n",
    "        trace = self._langfuse_client.fetch_trace(self.trace.id)\n",
    "        return [span for span in trace.data.observations if span.name == span_name]"
   ]
  },
  {
   "cell_type": "code",
   "execution_count": null,
   "metadata": {},
   "outputs": [],
   "source": [
    "# | export\n",
    "async def sync_trace(\n",
    "    trace_id: t.Optional[str] = None, max_retries: int = 10, delay: float = 2\n",
    ") -> LangfuseTrace:\n",
    "    \"\"\"Wait for a Langfuse trace to be synced to the server.\n",
    "\n",
    "    Args:\n",
    "        trace_id: The ID of the trace to wait for\n",
    "        max_retries: Maximum number of retry attempts (default: 10)\n",
    "        delay: Delay between retries in seconds (default: 0.5)\n",
    "\n",
    "    Returns:\n",
    "        Trace object if found, None if not found after retries\n",
    "    \"\"\"\n",
    "    if trace_id is None:\n",
    "        # if no trace id is provided, get the current trace id\n",
    "        trace_id = langfuse_context.get_current_trace_id()\n",
    "\n",
    "    if not trace_id:\n",
    "        raise ValueError(\n",
    "            \"No trace id found. Please ensure you are running this function within a function decorated with @observe().\"\n",
    "        )\n",
    "    for _ in range(max_retries):\n",
    "        langfuse_client = LangfuseSingleton().get()\n",
    "        try:\n",
    "            # you can also use the async api - langfuse_client.async_api.trace.get(trace_id)\n",
    "            # .client might be deprecated in the future (didn't change it for superme)\n",
    "            trace = langfuse_client.client.trace.get(trace_id)\n",
    "            if trace:\n",
    "                return LangfuseTrace(trace=trace)\n",
    "        except Exception as e:\n",
    "            logger.debug(f\"Trace {trace_id} not yet synced: {str(e)}\")\n",
    "\n",
    "        await asyncio.sleep(delay)\n",
    "\n",
    "    raise ValueError(f\"Trace {trace_id} not found after {max_retries} attempts\")"
   ]
  },
  {
   "cell_type": "code",
   "execution_count": null,
   "metadata": {},
   "outputs": [],
   "source": [
    "# | export\n",
    "def add_query_param(url, param_name, param_value):\n",
    "    \"\"\"Add a query parameter to a URL.\"\"\"\n",
    "    # Parse the URL\n",
    "    url_parts = list(urlparse(url))\n",
    "\n",
    "    # Get query params as a dict and add new param\n",
    "    query_dict = dict(parse_qsl(url_parts[4]))\n",
    "    query_dict[param_name] = param_value\n",
    "\n",
    "    # Replace the query part with updated params\n",
    "    url_parts[4] = urlencode(query_dict)\n",
    "\n",
    "    # Reconstruct the URL\n",
    "    return urlunparse(url_parts)"
   ]
  },
  {
   "cell_type": "code",
   "execution_count": null,
   "metadata": {},
   "outputs": [
    {
     "name": "stdout",
     "output_type": "stream",
     "text": [
      "https://example.com/path?existing=value&new_param=new_value\n"
     ]
    }
   ],
   "source": [
    "# Example usage\n",
    "url = \"https://example.com/path?existing=value\"\n",
    "new_url = add_query_param(url, \"new_param\", \"new_value\")\n",
    "print(new_url)"
   ]
  },
  {
   "cell_type": "code",
   "execution_count": null,
   "metadata": {},
   "outputs": [],
   "source": []
  }
 ],
 "metadata": {
  "kernelspec": {
   "display_name": "python3",
   "language": "python",
   "name": "python3"
  }
 },
 "nbformat": 4,
 "nbformat_minor": 2
}
