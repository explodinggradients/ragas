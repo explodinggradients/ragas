{
 "cells": [
  {
   "cell_type": "markdown",
   "metadata": {},
   "source": [
    "# MLflow tracing\n",
    "> tracing using mlflow"
   ]
  },
  {
   "cell_type": "code",
   "execution_count": null,
   "metadata": {},
   "outputs": [],
   "source": [
    "#| default_exp tracing.mlflow"
   ]
  },
  {
   "cell_type": "code",
   "execution_count": null,
   "metadata": {},
   "outputs": [],
   "source": [
    "#| export\n",
    "import os\n",
    "import typing as t\n",
    "from mlflow.entities.trace import Trace\n",
    "from mlflow.entities.span import Span\n",
    "from mlflow import get_last_active_trace\n",
    "\n",
    "class MLflowTrace:\n",
    "    \n",
    "    def __init__(self,trace:Trace):\n",
    "        self.trace = trace\n",
    "        \n",
    "    def get_url(self) -> str:\n",
    "        \n",
    "        server_url = os.getenv(\"MLFLOW_HOST\")\n",
    "        if not server_url:\n",
    "            raise ValueError(\"MLFLOW_HOST environment variable is not set.\")\n",
    "        trace_info = self.trace.info\n",
    "        server_url = server_url.rstrip('/')\n",
    "        request_id = trace_info.request_id\n",
    "        experiment_id = trace_info.experiment_id\n",
    "        \n",
    "        # Build the trace URL\n",
    "        trace_url = (f\"{server_url}/#/experiments/{experiment_id}?\"\n",
    "                    f\"compareRunsMode=TRACES&\"\n",
    "                    f\"selectedTraceId={request_id}\")\n",
    "        \n",
    "        return trace_url\n",
    "        \n",
    "    def get_filter(self, span_name) -> t.List[Span]:\n",
    "        \n",
    "        return self.trace.search_spans(name=span_name)    \n",
    "        "
   ]
  },
  {
   "cell_type": "code",
   "execution_count": null,
   "metadata": {},
   "outputs": [],
   "source": [
    "#| export\n",
    "\n",
    "async def sync_trace():\n",
    "    \n",
    "    trace = get_last_active_trace()\n",
    "    if trace is None:\n",
    "        raise ValueError(\"No active trace found.\")\n",
    "    \n",
    "    return MLflowTrace(trace)\n",
    "    "
   ]
  },
  {
   "cell_type": "code",
   "execution_count": null,
   "metadata": {},
   "outputs": [],
   "source": []
  }
 ],
 "metadata": {
  "kernelspec": {
   "display_name": "python3",
   "language": "python",
   "name": "python3"
  }
 },
 "nbformat": 4,
 "nbformat_minor": 2
}
