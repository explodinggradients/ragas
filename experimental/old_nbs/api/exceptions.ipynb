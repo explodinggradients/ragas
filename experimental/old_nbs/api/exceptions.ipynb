{
 "cells": [
  {
   "cell_type": "markdown",
   "metadata": {},
   "source": [
    "# Exceptions\n",
    "\n",
    "> All the exceptions specific to the `notion_annotator` project."
   ]
  },
  {
   "cell_type": "code",
   "execution_count": null,
   "metadata": {},
   "outputs": [],
   "source": [
    "# | default_exp exceptions"
   ]
  },
  {
   "cell_type": "code",
   "execution_count": null,
   "metadata": {},
   "outputs": [],
   "source": [
    "#| export\n",
    "class RagasError(Exception):\n",
    "    \"\"\"Base class for all Ragas-related exceptions.\"\"\"\n",
    "    pass"
   ]
  },
  {
   "cell_type": "code",
   "execution_count": null,
   "metadata": {},
   "outputs": [],
   "source": [
    "# | export\n",
    "class ValidationError(Exception):\n",
    "    \"\"\"Raised when field validation fails.\"\"\"\n",
    "\n",
    "    pass\n",
    "\n",
    "\n",
    "class DuplicateError(Exception):\n",
    "    \"\"\"Raised when multiple items are found but only one was expected.\"\"\"\n",
    "\n",
    "    pass\n",
    "\n",
    "\n",
    "class NotFoundError(Exception):\n",
    "    \"\"\"Raised when an item is not found.\"\"\"\n",
    "\n",
    "    pass"
   ]
  },
  {
   "cell_type": "code",
   "execution_count": null,
   "metadata": {},
   "outputs": [],
   "source": [
    "#| export\n",
    "\n",
    "class ResourceNotFoundError(RagasError):\n",
    "    \"\"\"Exception raised when a requested resource doesn't exist.\"\"\"\n",
    "    pass\n",
    "\n",
    "class ProjectNotFoundError(ResourceNotFoundError):\n",
    "    \"\"\"Exception raised when a project doesn't exist.\"\"\"\n",
    "    pass\n",
    "\n",
    "class DatasetNotFoundError(ResourceNotFoundError):\n",
    "    \"\"\"Exception raised when a dataset doesn't exist.\"\"\"\n",
    "    pass\n",
    "\n",
    "class ExperimentNotFoundError(ResourceNotFoundError):\n",
    "    \"\"\"Exception raised when an experiment doesn't exist.\"\"\"\n",
    "    pass"
   ]
  },
  {
   "cell_type": "code",
   "execution_count": null,
   "metadata": {},
   "outputs": [],
   "source": [
    "#| export\n",
    "\n",
    "class DuplicateResourceError(RagasError):\n",
    "    \"\"\"Exception raised when multiple resources exist with the same identifier.\"\"\"\n",
    "    pass\n",
    "\n",
    "class DuplicateProjectError(DuplicateResourceError):\n",
    "    \"\"\"Exception raised when multiple projects exist with the same name.\"\"\"\n",
    "    pass\n",
    "\n",
    "class DuplicateDatasetError(DuplicateResourceError):\n",
    "    \"\"\"Exception raised when multiple datasets exist with the same name.\"\"\"\n",
    "    pass\n",
    "\n",
    "class DuplicateExperimentError(DuplicateResourceError):\n",
    "    \"\"\"Exception raised when multiple experiments exist with the same name.\"\"\"\n",
    "    pass"
   ]
  }
 ],
 "metadata": {
  "kernelspec": {
   "display_name": "python3",
   "language": "python",
   "name": "python3"
  }
 },
 "nbformat": 4,
 "nbformat_minor": 2
}
