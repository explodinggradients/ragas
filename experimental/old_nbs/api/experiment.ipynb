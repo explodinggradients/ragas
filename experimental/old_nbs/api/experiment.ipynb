{
 "cells": [
  {
   "cell_type": "markdown",
   "metadata": {},
   "source": [
    "# Experiment\n",
    "\n",
    "> Experiments hold the results of an experiment against a dataset."
   ]
  },
  {
   "cell_type": "code",
   "execution_count": 1,
   "metadata": {},
   "outputs": [],
   "source": [
    "# | default_exp experiment"
   ]
  },
  {
   "cell_type": "code",
   "execution_count": 2,
   "metadata": {},
   "outputs": [
    {
     "name": "stderr",
     "output_type": "stream",
     "text": [
      "/Users/jjmachan/workspace/eglabs/ragas/.venv/lib/python3.12/site-packages/tqdm/auto.py:21: TqdmWarning: IProgress not found. Please update jupyter and ipywidgets. See https://ipywidgets.readthedocs.io/en/stable/user_install.html\n",
      "  from .autonotebook import tqdm as notebook_tqdm\n"
     ]
    }
   ],
   "source": [
    "# | export\n",
    "import typing as t\n",
    "\n",
    "from fastcore.utils import patch\n",
    "\n",
    "from ragas_experimental.model.pydantic_model import ExtendedPydanticBaseModel as BaseModel\n",
    "from ragas_experimental.backends.ragas_api_client import RagasApiClient\n",
    "from ragas_experimental.dataset import Dataset"
   ]
  },
  {
   "cell_type": "code",
   "execution_count": 3,
   "metadata": {},
   "outputs": [],
   "source": [
    "# | export\n",
    "class Experiment(Dataset):\n",
    "    def __init__(\n",
    "        self,\n",
    "        name: str,\n",
    "        model: t.Type[BaseModel],\n",
    "        project_id: str,\n",
    "        experiment_id: str,\n",
    "        ragas_api_client: t.Optional[RagasApiClient] = None,\n",
    "        backend: t.Literal[\"ragas_app\", \"local\"] = \"ragas_app\",\n",
    "        local_root_dir: t.Optional[str] = None,\n",
    "    ):\n",
    "        self.experiment_id = experiment_id\n",
    "        super().__init__(\n",
    "            name=name, \n",
    "            model=model, \n",
    "            project_id=project_id, \n",
    "            dataset_id=experiment_id, \n",
    "            ragas_api_client=ragas_api_client,\n",
    "            backend=backend,\n",
    "            local_root_dir=local_root_dir,\n",
    "            datatable_type=\"experiments\",\n",
    "        )\n",
    "\n",
    "    def __str__(self):\n",
    "        return f\"Experiment(name={self.name}, model={self.model.__name__}, len={len(self._entries)})\"\n",
    "\n",
    "    __repr__ = __str__"
   ]
  },
  {
   "cell_type": "code",
   "execution_count": 4,
   "metadata": {},
   "outputs": [],
   "source": [
    "from ragas_experimental import Project, BaseModel\n",
    "from ragas_experimental.metric import MetricResult\n",
    "from ragas_experimental.utils import get_test_directory\n",
    "import typing as t"
   ]
  },
  {
   "cell_type": "code",
   "execution_count": 5,
   "metadata": {},
   "outputs": [],
   "source": [
    "root_dir = get_test_directory()\n",
    "\n",
    "p = Project(\n",
    "    project_id=\"test\",\n",
    "    backend=\"local\",\n",
    "    root_dir=root_dir,\n",
    ")\n",
    "\n",
    "class TestDataRow(BaseModel):\n",
    "    id: t.Optional[int]\n",
    "    query: str\n",
    "    persona: t.List[t.Literal[\"opt1\", \"opt2\", \"opt3\"]]\n",
    "\n",
    "dataset = p.create_dataset(\n",
    "    name=\"test_dataset\",\n",
    "    model=TestDataRow,\n",
    ")\n",
    "\n",
    "for i in range(3):\n",
    "    row = TestDataRow(id=i, query=f\"query_{i}\", persona=[\"opt1\"])\n",
    "    dataset.append(row)\n"
   ]
  },
  {
   "cell_type": "code",
   "execution_count": 6,
   "metadata": {},
   "outputs": [],
   "source": [
    "i = 0\n",
    "row = TestDataRow(id=i, query=f\"query_{i}\", persona=[\"opt1\"])"
   ]
  },
  {
   "cell_type": "code",
   "execution_count": 7,
   "metadata": {},
   "outputs": [
    {
     "data": {
      "text/plain": [
       "{'id': {'value': 0, 'type': typing.Optional[int]},\n",
       " 'query': {'value': 'query_0', 'type': str},\n",
       " 'persona': {'value': ['opt1'],\n",
       "  'type': typing.List[typing.Literal['opt1', 'opt2', 'opt3']]}}"
      ]
     },
     "execution_count": 7,
     "metadata": {},
     "output_type": "execute_result"
    }
   ],
   "source": [
    "fields_info = {\n",
    "    field_name: {\n",
    "        'value': getattr(row, field_name),\n",
    "        'type': field_info.annotation\n",
    "    }\n",
    "    for field_name, field_info in row.model_fields.items()\n",
    "}\n",
    "\n",
    "fields_info"
   ]
  },
  {
   "cell_type": "code",
   "execution_count": 9,
   "metadata": {},
   "outputs": [],
   "source": [
    "class ExperimentDataRow(TestDataRow):\n",
    "    response: str \n",
    "    metrics: t.List[MetricResult]"
   ]
  },
  {
   "cell_type": "code",
   "execution_count": 17,
   "metadata": {},
   "outputs": [],
   "source": [
    "for d in dataset:\n",
    "    response = \"test\"\n",
    "    score1 = MetricResult(result=1, reason=\"score 1\")\n",
    "    score2 = MetricResult(result=0, reason=\"score 2\")\n",
    "\n",
    "    e = ExperimentDataRow(\n",
    "        id=row.id,\n",
    "        query=row.query,\n",
    "        persona=[\"opt1\"],\n",
    "        response=response,\n",
    "        metrics=[score1, score2],\n",
    "    )\n",
    "    experiments.append(e)"
   ]
  },
  {
   "cell_type": "code",
   "execution_count": 19,
   "metadata": {},
   "outputs": [
    {
     "data": {
      "text/plain": [
       "['test_experiment.csv']"
      ]
     },
     "execution_count": 19,
     "metadata": {},
     "output_type": "execute_result"
    }
   ],
   "source": [
    "import os\n",
    "\n",
    "os.listdir(\n",
    "    os.path.join(root_dir, \"test\", \"experiments\")\n",
    ")"
   ]
  }
 ],
 "metadata": {
  "kernelspec": {
   "display_name": ".venv",
   "language": "python",
   "name": "python3"
  },
  "language_info": {
   "codemirror_mode": {
    "name": "ipython",
    "version": 3
   },
   "file_extension": ".py",
   "mimetype": "text/x-python",
   "name": "python",
   "nbconvert_exporter": "python",
   "pygments_lexer": "ipython3",
   "version": "3.12.8"
  }
 },
 "nbformat": 4,
 "nbformat_minor": 2
}
