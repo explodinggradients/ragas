{
 "cells": [
  {
   "cell_type": "code",
   "execution_count": null,
   "metadata": {},
   "outputs": [],
   "source": [
    "#| default_exp utils"
   ]
  },
  {
   "cell_type": "markdown",
   "metadata": {},
   "source": [
    "# Utils"
   ]
  },
  {
   "cell_type": "code",
   "execution_count": null,
   "metadata": {},
   "outputs": [],
   "source": [
    "#| export\n",
    "import string\n",
    "import uuid\n",
    "import functools\n",
    "import asyncio"
   ]
  },
  {
   "cell_type": "code",
   "execution_count": null,
   "metadata": {},
   "outputs": [],
   "source": [
    "#| export\n",
    "def create_nano_id(size=12):\n",
    "    # Define characters to use (alphanumeric)\n",
    "    alphabet = string.ascii_letters + string.digits\n",
    "    \n",
    "    # Generate UUID and convert to int\n",
    "    uuid_int = uuid.uuid4().int\n",
    "    \n",
    "    # Convert to base62\n",
    "    result = \"\"\n",
    "    while uuid_int:\n",
    "        uuid_int, remainder = divmod(uuid_int, len(alphabet))\n",
    "        result = alphabet[remainder] + result\n",
    "    \n",
    "    # Pad if necessary and return desired length\n",
    "    return result[:size]"
   ]
  },
  {
   "cell_type": "code",
   "execution_count": null,
   "metadata": {},
   "outputs": [],
   "source": [
    "# | export\n",
    "def async_to_sync(async_func):\n",
    "    \"\"\"Convert an async function to a sync function\"\"\"\n",
    "    @functools.wraps(async_func)\n",
    "    def sync_wrapper(*args, **kwargs):\n",
    "        try:\n",
    "            loop = asyncio.get_event_loop()\n",
    "            if loop.is_running():\n",
    "                import concurrent.futures\n",
    "                with concurrent.futures.ThreadPoolExecutor() as executor:\n",
    "                    future = executor.submit(asyncio.run, async_func(*args, **kwargs))\n",
    "                    return future.result()\n",
    "            else:\n",
    "                return loop.run_until_complete(async_func(*args, **kwargs))\n",
    "        except RuntimeError:\n",
    "            return asyncio.run(async_func(*args, **kwargs))\n",
    "    return sync_wrapper"
   ]
  },
  {
   "cell_type": "code",
   "execution_count": null,
   "metadata": {},
   "outputs": [],
   "source": [
    "#| export\n",
    "\n",
    "import numpy as np\n",
    "import plotly.graph_objects as go\n",
    "from plotly.subplots import make_subplots\n",
    "from collections import Counter\n",
    "\n",
    "def plot_experiments_as_subplots(data, experiment_names=None):\n",
    "    \"\"\"\n",
    "    Plot metrics comparison across experiments.\n",
    "    \n",
    "    Parameters:\n",
    "    - data: Dictionary with experiment_names as keys and metrics as nested dictionaries\n",
    "    - experiment_names: List of experiment IDs in the order they should be plotted\n",
    "    \n",
    "    Returns:\n",
    "    - Plotly figure object with horizontal subplots\n",
    "    \"\"\"\n",
    "    if experiment_names is None:\n",
    "        experiment_names = list(data.keys())\n",
    "    \n",
    "    exp_short_names = [f\"{name[:10]}..\"for name in experiment_names]\n",
    "    #TODO: need better solution to identify what type of metric it is\n",
    "    # this is a temporary solution\n",
    "    # Identify metrics and their types\n",
    "    metrics = {}\n",
    "    for exp_id in experiment_names:\n",
    "        for metric_name, values in data[exp_id].items():\n",
    "            # Classify metric type (discrete or numerical)\n",
    "            if metric_name not in metrics:\n",
    "                # Check first value to determine type\n",
    "                is_discrete = isinstance(values[0], str)\n",
    "                metrics[metric_name] = {\"type\": \"discrete\" if is_discrete else \"numerical\"}\n",
    "    \n",
    "    # Create horizontal subplots (one for each metric)\n",
    "    fig = make_subplots(\n",
    "        rows=1, \n",
    "        cols=len(metrics),\n",
    "        subplot_titles=[f\"{metric.capitalize()} Comparison\" for metric in metrics.keys()],\n",
    "        horizontal_spacing=0.1\n",
    "    )\n",
    "    \n",
    "    # Process metrics and add traces\n",
    "    col_idx = 1\n",
    "    for metric_name, metric_info in metrics.items():\n",
    "        if metric_info[\"type\"] == \"discrete\":\n",
    "            # For discrete metrics (like pass/fail)\n",
    "            categories = set()\n",
    "            for exp_id in experiment_names:\n",
    "                count = Counter(data[exp_id][metric_name])\n",
    "                categories.update(count.keys())\n",
    "            \n",
    "            categories = sorted(list(categories))\n",
    "            \n",
    "            for category in categories:\n",
    "                y_values = []\n",
    "                for exp_id in experiment_names:\n",
    "                    count = Counter(data[exp_id][metric_name])\n",
    "                    total = sum(count.values())\n",
    "                    percentage = (count.get(category, 0) / total) * 100\n",
    "                    y_values.append(percentage)\n",
    "                \n",
    "                # Assign colors based on category\n",
    "                \n",
    "                # Generate consistent color for other categories\n",
    "                import hashlib\n",
    "                hash_obj = hashlib.md5(category.encode())\n",
    "                hash_hex = hash_obj.hexdigest()\n",
    "                color = f\"#{hash_hex[:6]}\"\n",
    "                \n",
    "                fig.add_trace(\n",
    "                    go.Bar(\n",
    "                        x=exp_short_names,\n",
    "                        y=y_values,\n",
    "                        name=category.capitalize(),\n",
    "                        marker_color=color,\n",
    "                        width=0.5,  # Narrower bars\n",
    "                        hoverinfo='text',\n",
    "                        hovertext=[f\"{category.capitalize()}: {x:.1f}%\" for x in y_values],\n",
    "                        showlegend=False  # Remove legend\n",
    "                    ),\n",
    "                    row=1, col=col_idx\n",
    "                )\n",
    "            \n",
    "        else:  # Numerical metrics\n",
    "            normalized_values = []\n",
    "            original_values = []\n",
    "            \n",
    "            for exp_id in experiment_names:\n",
    "                values = data[exp_id][metric_name]\n",
    "                mean_val = np.mean(values)\n",
    "                original_values.append(mean_val)\n",
    "                \n",
    "                # Normalize to 0-100 scale\n",
    "                min_val = np.min(values)\n",
    "                max_val = np.max(values)\n",
    "                normalized = ((mean_val - min_val) / (max_val - min_val)) * 100\n",
    "                normalized_values.append(normalized)\n",
    "            \n",
    "            # Add bar chart for numerical data\n",
    "            fig.add_trace(\n",
    "                go.Bar(\n",
    "                    x=exp_short_names,\n",
    "                    y=normalized_values,\n",
    "                    name=metric_name.capitalize(),\n",
    "                    marker_color='#2E8B57',  # Sea green\n",
    "                    width=0.5,  # Narrower bars\n",
    "                    hoverinfo='text',\n",
    "                    hovertext=[f\"{metric_name.capitalize()} Mean: {val:.2f} (Normalized: {norm:.1f}%)\" \n",
    "                              for val, norm in zip(original_values, normalized_values)],\n",
    "                    showlegend=False  # Remove legend\n",
    "                ),\n",
    "                row=1, col=col_idx\n",
    "            )\n",
    "        \n",
    "        # Update axes for each subplot\n",
    "        fig.update_yaxes(\n",
    "            title_text=\"Percentage (%)\" if metric_info[\"type\"] == \"discrete\" else \"Normalized Value\",\n",
    "            range=[0, 105],  # Leave room for labels at the top\n",
    "            ticksuffix=\"%\",\n",
    "            showgrid=True,\n",
    "            gridcolor='lightgray',\n",
    "            showline=True,\n",
    "            linewidth=1,\n",
    "            linecolor='black',\n",
    "            row=1, col=col_idx\n",
    "        )\n",
    "        \n",
    "        fig.update_xaxes(\n",
    "            title_text=\"Experiments\",\n",
    "            tickangle=-45,\n",
    "            showgrid=False,\n",
    "            showline=True,\n",
    "            linewidth=1,\n",
    "            linecolor='black',\n",
    "            row=1, col=col_idx\n",
    "        )\n",
    "        \n",
    "        col_idx += 1\n",
    "    \n",
    "    # Update layout for the entire figure\n",
    "    fig.update_layout(\n",
    "        title='Experiment Comparison by Metrics',\n",
    "        barmode='stack' if any(metric_info[\"type\"] == \"discrete\" for metric_info in metrics.values()) else 'group',\n",
    "        height=400,  # Reduced height\n",
    "        width=250 * len(metrics) + 150,  # Adjust width based on number of metrics\n",
    "        showlegend=False,  # Remove legend\n",
    "        margin=dict(t=80, b=50, l=50, r=50),\n",
    "        plot_bgcolor='white',\n",
    "        hovermode='closest'\n",
    "    )\n",
    "    \n",
    "    return fig\n"
   ]
  },
  {
   "cell_type": "code",
   "execution_count": null,
   "metadata": {},
   "outputs": [
    {
     "data": {
      "application/vnd.plotly.v1+json": {
       "config": {
        "plotlyServerURL": "https://plot.ly"
       },
       "data": [
        {
         "hoverinfo": "text",
         "hovertext": [
          "Fail: 50.0%",
          "Fail: 33.3%"
         ],
         "marker": {
          "color": "#e11185"
         },
         "name": "Fail",
         "showlegend": false,
         "type": "bar",
         "width": 0.5,
         "x": [
          "my-first-e..",
          "my-second-.."
         ],
         "xaxis": "x",
         "y": [
          50,
          33.33333333333333
         ],
         "yaxis": "y"
        },
        {
         "hoverinfo": "text",
         "hovertext": [
          "Pass: 50.0%",
          "Pass: 66.7%"
         ],
         "marker": {
          "color": "#1a1dc9"
         },
         "name": "Pass",
         "showlegend": false,
         "type": "bar",
         "width": 0.5,
         "x": [
          "my-first-e..",
          "my-second-.."
         ],
         "xaxis": "x",
         "y": [
          50,
          66.66666666666666
         ],
         "yaxis": "y"
        },
        {
         "hoverinfo": "text",
         "hovertext": [
          "Positivity Mean: 5.67 (Normalized: 51.9%)",
          "Positivity Mean: 6.23 (Normalized: 52.9%)"
         ],
         "marker": {
          "color": "#2E8B57"
         },
         "name": "Positivity",
         "showlegend": false,
         "type": "bar",
         "width": 0.5,
         "x": [
          "my-first-e..",
          "my-second-.."
         ],
         "xaxis": "x2",
         "y": [
          51.85185185185186,
          52.916666666666664
         ],
         "yaxis": "y2"
        }
       ],
       "layout": {
        "annotations": [
         {
          "font": {
           "size": 16
          },
          "showarrow": false,
          "text": "Correctness Comparison",
          "x": 0.225,
          "xanchor": "center",
          "xref": "paper",
          "y": 1,
          "yanchor": "bottom",
          "yref": "paper"
         },
         {
          "font": {
           "size": 16
          },
          "showarrow": false,
          "text": "Positivity Comparison",
          "x": 0.775,
          "xanchor": "center",
          "xref": "paper",
          "y": 1,
          "yanchor": "bottom",
          "yref": "paper"
         }
        ],
        "barmode": "stack",
        "height": 400,
        "hovermode": "closest",
        "margin": {
         "b": 50,
         "l": 50,
         "r": 50,
         "t": 80
        },
        "plot_bgcolor": "white",
        "showlegend": false,
        "template": {
         "data": {
          "bar": [
           {
            "error_x": {
             "color": "#2a3f5f"
            },
            "error_y": {
             "color": "#2a3f5f"
            },
            "marker": {
             "line": {
              "color": "#E5ECF6",
              "width": 0.5
             },
             "pattern": {
              "fillmode": "overlay",
              "size": 10,
              "solidity": 0.2
             }
            },
            "type": "bar"
           }
          ],
          "barpolar": [
           {
            "marker": {
             "line": {
              "color": "#E5ECF6",
              "width": 0.5
             },
             "pattern": {
              "fillmode": "overlay",
              "size": 10,
              "solidity": 0.2
             }
            },
            "type": "barpolar"
           }
          ],
          "carpet": [
           {
            "aaxis": {
             "endlinecolor": "#2a3f5f",
             "gridcolor": "white",
             "linecolor": "white",
             "minorgridcolor": "white",
             "startlinecolor": "#2a3f5f"
            },
            "baxis": {
             "endlinecolor": "#2a3f5f",
             "gridcolor": "white",
             "linecolor": "white",
             "minorgridcolor": "white",
             "startlinecolor": "#2a3f5f"
            },
            "type": "carpet"
           }
          ],
          "choropleth": [
           {
            "colorbar": {
             "outlinewidth": 0,
             "ticks": ""
            },
            "type": "choropleth"
           }
          ],
          "contour": [
           {
            "colorbar": {
             "outlinewidth": 0,
             "ticks": ""
            },
            "colorscale": [
             [
              0,
              "#0d0887"
             ],
             [
              0.1111111111111111,
              "#46039f"
             ],
             [
              0.2222222222222222,
              "#7201a8"
             ],
             [
              0.3333333333333333,
              "#9c179e"
             ],
             [
              0.4444444444444444,
              "#bd3786"
             ],
             [
              0.5555555555555556,
              "#d8576b"
             ],
             [
              0.6666666666666666,
              "#ed7953"
             ],
             [
              0.7777777777777778,
              "#fb9f3a"
             ],
             [
              0.8888888888888888,
              "#fdca26"
             ],
             [
              1,
              "#f0f921"
             ]
            ],
            "type": "contour"
           }
          ],
          "contourcarpet": [
           {
            "colorbar": {
             "outlinewidth": 0,
             "ticks": ""
            },
            "type": "contourcarpet"
           }
          ],
          "heatmap": [
           {
            "colorbar": {
             "outlinewidth": 0,
             "ticks": ""
            },
            "colorscale": [
             [
              0,
              "#0d0887"
             ],
             [
              0.1111111111111111,
              "#46039f"
             ],
             [
              0.2222222222222222,
              "#7201a8"
             ],
             [
              0.3333333333333333,
              "#9c179e"
             ],
             [
              0.4444444444444444,
              "#bd3786"
             ],
             [
              0.5555555555555556,
              "#d8576b"
             ],
             [
              0.6666666666666666,
              "#ed7953"
             ],
             [
              0.7777777777777778,
              "#fb9f3a"
             ],
             [
              0.8888888888888888,
              "#fdca26"
             ],
             [
              1,
              "#f0f921"
             ]
            ],
            "type": "heatmap"
           }
          ],
          "histogram": [
           {
            "marker": {
             "pattern": {
              "fillmode": "overlay",
              "size": 10,
              "solidity": 0.2
             }
            },
            "type": "histogram"
           }
          ],
          "histogram2d": [
           {
            "colorbar": {
             "outlinewidth": 0,
             "ticks": ""
            },
            "colorscale": [
             [
              0,
              "#0d0887"
             ],
             [
              0.1111111111111111,
              "#46039f"
             ],
             [
              0.2222222222222222,
              "#7201a8"
             ],
             [
              0.3333333333333333,
              "#9c179e"
             ],
             [
              0.4444444444444444,
              "#bd3786"
             ],
             [
              0.5555555555555556,
              "#d8576b"
             ],
             [
              0.6666666666666666,
              "#ed7953"
             ],
             [
              0.7777777777777778,
              "#fb9f3a"
             ],
             [
              0.8888888888888888,
              "#fdca26"
             ],
             [
              1,
              "#f0f921"
             ]
            ],
            "type": "histogram2d"
           }
          ],
          "histogram2dcontour": [
           {
            "colorbar": {
             "outlinewidth": 0,
             "ticks": ""
            },
            "colorscale": [
             [
              0,
              "#0d0887"
             ],
             [
              0.1111111111111111,
              "#46039f"
             ],
             [
              0.2222222222222222,
              "#7201a8"
             ],
             [
              0.3333333333333333,
              "#9c179e"
             ],
             [
              0.4444444444444444,
              "#bd3786"
             ],
             [
              0.5555555555555556,
              "#d8576b"
             ],
             [
              0.6666666666666666,
              "#ed7953"
             ],
             [
              0.7777777777777778,
              "#fb9f3a"
             ],
             [
              0.8888888888888888,
              "#fdca26"
             ],
             [
              1,
              "#f0f921"
             ]
            ],
            "type": "histogram2dcontour"
           }
          ],
          "mesh3d": [
           {
            "colorbar": {
             "outlinewidth": 0,
             "ticks": ""
            },
            "type": "mesh3d"
           }
          ],
          "parcoords": [
           {
            "line": {
             "colorbar": {
              "outlinewidth": 0,
              "ticks": ""
             }
            },
            "type": "parcoords"
           }
          ],
          "pie": [
           {
            "automargin": true,
            "type": "pie"
           }
          ],
          "scatter": [
           {
            "fillpattern": {
             "fillmode": "overlay",
             "size": 10,
             "solidity": 0.2
            },
            "type": "scatter"
           }
          ],
          "scatter3d": [
           {
            "line": {
             "colorbar": {
              "outlinewidth": 0,
              "ticks": ""
             }
            },
            "marker": {
             "colorbar": {
              "outlinewidth": 0,
              "ticks": ""
             }
            },
            "type": "scatter3d"
           }
          ],
          "scattercarpet": [
           {
            "marker": {
             "colorbar": {
              "outlinewidth": 0,
              "ticks": ""
             }
            },
            "type": "scattercarpet"
           }
          ],
          "scattergeo": [
           {
            "marker": {
             "colorbar": {
              "outlinewidth": 0,
              "ticks": ""
             }
            },
            "type": "scattergeo"
           }
          ],
          "scattergl": [
           {
            "marker": {
             "colorbar": {
              "outlinewidth": 0,
              "ticks": ""
             }
            },
            "type": "scattergl"
           }
          ],
          "scattermap": [
           {
            "marker": {
             "colorbar": {
              "outlinewidth": 0,
              "ticks": ""
             }
            },
            "type": "scattermap"
           }
          ],
          "scattermapbox": [
           {
            "marker": {
             "colorbar": {
              "outlinewidth": 0,
              "ticks": ""
             }
            },
            "type": "scattermapbox"
           }
          ],
          "scatterpolar": [
           {
            "marker": {
             "colorbar": {
              "outlinewidth": 0,
              "ticks": ""
             }
            },
            "type": "scatterpolar"
           }
          ],
          "scatterpolargl": [
           {
            "marker": {
             "colorbar": {
              "outlinewidth": 0,
              "ticks": ""
             }
            },
            "type": "scatterpolargl"
           }
          ],
          "scatterternary": [
           {
            "marker": {
             "colorbar": {
              "outlinewidth": 0,
              "ticks": ""
             }
            },
            "type": "scatterternary"
           }
          ],
          "surface": [
           {
            "colorbar": {
             "outlinewidth": 0,
             "ticks": ""
            },
            "colorscale": [
             [
              0,
              "#0d0887"
             ],
             [
              0.1111111111111111,
              "#46039f"
             ],
             [
              0.2222222222222222,
              "#7201a8"
             ],
             [
              0.3333333333333333,
              "#9c179e"
             ],
             [
              0.4444444444444444,
              "#bd3786"
             ],
             [
              0.5555555555555556,
              "#d8576b"
             ],
             [
              0.6666666666666666,
              "#ed7953"
             ],
             [
              0.7777777777777778,
              "#fb9f3a"
             ],
             [
              0.8888888888888888,
              "#fdca26"
             ],
             [
              1,
              "#f0f921"
             ]
            ],
            "type": "surface"
           }
          ],
          "table": [
           {
            "cells": {
             "fill": {
              "color": "#EBF0F8"
             },
             "line": {
              "color": "white"
             }
            },
            "header": {
             "fill": {
              "color": "#C8D4E3"
             },
             "line": {
              "color": "white"
             }
            },
            "type": "table"
           }
          ]
         },
         "layout": {
          "annotationdefaults": {
           "arrowcolor": "#2a3f5f",
           "arrowhead": 0,
           "arrowwidth": 1
          },
          "autotypenumbers": "strict",
          "coloraxis": {
           "colorbar": {
            "outlinewidth": 0,
            "ticks": ""
           }
          },
          "colorscale": {
           "diverging": [
            [
             0,
             "#8e0152"
            ],
            [
             0.1,
             "#c51b7d"
            ],
            [
             0.2,
             "#de77ae"
            ],
            [
             0.3,
             "#f1b6da"
            ],
            [
             0.4,
             "#fde0ef"
            ],
            [
             0.5,
             "#f7f7f7"
            ],
            [
             0.6,
             "#e6f5d0"
            ],
            [
             0.7,
             "#b8e186"
            ],
            [
             0.8,
             "#7fbc41"
            ],
            [
             0.9,
             "#4d9221"
            ],
            [
             1,
             "#276419"
            ]
           ],
           "sequential": [
            [
             0,
             "#0d0887"
            ],
            [
             0.1111111111111111,
             "#46039f"
            ],
            [
             0.2222222222222222,
             "#7201a8"
            ],
            [
             0.3333333333333333,
             "#9c179e"
            ],
            [
             0.4444444444444444,
             "#bd3786"
            ],
            [
             0.5555555555555556,
             "#d8576b"
            ],
            [
             0.6666666666666666,
             "#ed7953"
            ],
            [
             0.7777777777777778,
             "#fb9f3a"
            ],
            [
             0.8888888888888888,
             "#fdca26"
            ],
            [
             1,
             "#f0f921"
            ]
           ],
           "sequentialminus": [
            [
             0,
             "#0d0887"
            ],
            [
             0.1111111111111111,
             "#46039f"
            ],
            [
             0.2222222222222222,
             "#7201a8"
            ],
            [
             0.3333333333333333,
             "#9c179e"
            ],
            [
             0.4444444444444444,
             "#bd3786"
            ],
            [
             0.5555555555555556,
             "#d8576b"
            ],
            [
             0.6666666666666666,
             "#ed7953"
            ],
            [
             0.7777777777777778,
             "#fb9f3a"
            ],
            [
             0.8888888888888888,
             "#fdca26"
            ],
            [
             1,
             "#f0f921"
            ]
           ]
          },
          "colorway": [
           "#636efa",
           "#EF553B",
           "#00cc96",
           "#ab63fa",
           "#FFA15A",
           "#19d3f3",
           "#FF6692",
           "#B6E880",
           "#FF97FF",
           "#FECB52"
          ],
          "font": {
           "color": "#2a3f5f"
          },
          "geo": {
           "bgcolor": "white",
           "lakecolor": "white",
           "landcolor": "#E5ECF6",
           "showlakes": true,
           "showland": true,
           "subunitcolor": "white"
          },
          "hoverlabel": {
           "align": "left"
          },
          "hovermode": "closest",
          "mapbox": {
           "style": "light"
          },
          "paper_bgcolor": "white",
          "plot_bgcolor": "#E5ECF6",
          "polar": {
           "angularaxis": {
            "gridcolor": "white",
            "linecolor": "white",
            "ticks": ""
           },
           "bgcolor": "#E5ECF6",
           "radialaxis": {
            "gridcolor": "white",
            "linecolor": "white",
            "ticks": ""
           }
          },
          "scene": {
           "xaxis": {
            "backgroundcolor": "#E5ECF6",
            "gridcolor": "white",
            "gridwidth": 2,
            "linecolor": "white",
            "showbackground": true,
            "ticks": "",
            "zerolinecolor": "white"
           },
           "yaxis": {
            "backgroundcolor": "#E5ECF6",
            "gridcolor": "white",
            "gridwidth": 2,
            "linecolor": "white",
            "showbackground": true,
            "ticks": "",
            "zerolinecolor": "white"
           },
           "zaxis": {
            "backgroundcolor": "#E5ECF6",
            "gridcolor": "white",
            "gridwidth": 2,
            "linecolor": "white",
            "showbackground": true,
            "ticks": "",
            "zerolinecolor": "white"
           }
          },
          "shapedefaults": {
           "line": {
            "color": "#2a3f5f"
           }
          },
          "ternary": {
           "aaxis": {
            "gridcolor": "white",
            "linecolor": "white",
            "ticks": ""
           },
           "baxis": {
            "gridcolor": "white",
            "linecolor": "white",
            "ticks": ""
           },
           "bgcolor": "#E5ECF6",
           "caxis": {
            "gridcolor": "white",
            "linecolor": "white",
            "ticks": ""
           }
          },
          "title": {
           "x": 0.05
          },
          "xaxis": {
           "automargin": true,
           "gridcolor": "white",
           "linecolor": "white",
           "ticks": "",
           "title": {
            "standoff": 15
           },
           "zerolinecolor": "white",
           "zerolinewidth": 2
          },
          "yaxis": {
           "automargin": true,
           "gridcolor": "white",
           "linecolor": "white",
           "ticks": "",
           "title": {
            "standoff": 15
           },
           "zerolinecolor": "white",
           "zerolinewidth": 2
          }
         }
        },
        "title": {
         "text": "Experiment Comparison by Metrics"
        },
        "width": 650,
        "xaxis": {
         "anchor": "y",
         "domain": [
          0,
          0.45
         ],
         "linecolor": "black",
         "linewidth": 1,
         "showgrid": false,
         "showline": true,
         "tickangle": -45,
         "title": {
          "text": "Experiments"
         }
        },
        "xaxis2": {
         "anchor": "y2",
         "domain": [
          0.55,
          1
         ],
         "linecolor": "black",
         "linewidth": 1,
         "showgrid": false,
         "showline": true,
         "tickangle": -45,
         "title": {
          "text": "Experiments"
         }
        },
        "yaxis": {
         "anchor": "x",
         "domain": [
          0,
          1
         ],
         "gridcolor": "lightgray",
         "linecolor": "black",
         "linewidth": 1,
         "range": [
          0,
          105
         ],
         "showgrid": true,
         "showline": true,
         "ticksuffix": "%",
         "title": {
          "text": "Percentage (%)"
         }
        },
        "yaxis2": {
         "anchor": "x2",
         "domain": [
          0,
          1
         ],
         "gridcolor": "lightgray",
         "linecolor": "black",
         "linewidth": 1,
         "range": [
          0,
          105
         ],
         "showgrid": true,
         "showline": true,
         "ticksuffix": "%",
         "title": {
          "text": "Normalized Value"
         }
        }
       }
      }
     },
     "metadata": {},
     "output_type": "display_data"
    }
   ],
   "source": [
    "# Provided sample data\n",
    "data = {\n",
    "    'my-first-experiment': {\n",
    "        'correctness': ['pass', 'fail', 'fail', 'fail', 'fail', 'pass', 'fail', \n",
    "                  'pass', 'fail', 'fail', 'fail', 'pass', 'pass', 'pass', \n",
    "                  'pass', 'fail', 'pass', 'fail', 'pass', 'pass', 'pass', \n",
    "                  'fail', 'fail', 'pass', 'pass', 'pass', 'pass', 'fail', \n",
    "                  'fail', 'fail'],\n",
    "        'positivity': [\n",
    "            7, 3, 8, 2, 4, 9, 3, 8, 7, 6, \n",
    "            9, 7, 8, 10, 1, 8, 9, 4, 8, 1, \n",
    "            9, 3, 2, 1, 1, 9, 8, 4, 3, 8\n",
    "        ]\n",
    "    },\n",
    "    'my-second-experiment': {\n",
    "        'correctness': ['pass', 'pass', 'pass', 'fail', 'pass', 'pass', 'pass', \n",
    "                  'pass', 'fail', 'pass', 'pass', 'pass', 'fail', 'pass', \n",
    "                  'pass', 'pass', 'pass', 'pass', 'pass', 'pass', 'fail', \n",
    "                  'pass', 'fail', 'fail', 'pass', 'fail', 'pass', 'fail', \n",
    "                  'fail', 'fail'],\n",
    "        'positivity': [\n",
    "            6, 8, 7, 3, 8, 7, 9, 8, 2, 7, \n",
    "            6, 8, 4, 9, 8, 7, 10, 9, 8, 9, \n",
    "            3, 8, 4, 2, 7, 3, 8, 4, 2, 3\n",
    "        ]\n",
    "    }\n",
    "}\n",
    "\n",
    "\n",
    "# Plot the comparison\n",
    "experiment_names = ['my-first-experiment', 'my-second-experiment',]\n",
    "fig = plot_experiments_as_subplots(data, experiment_names)\n",
    "\n",
    "# Show the figure\n",
    "fig.show()\n"
   ]
  },
  {
   "cell_type": "code",
   "execution_count": null,
   "metadata": {},
   "outputs": [],
   "source": [
    "#| export\n",
    "import tempfile\n",
    "import os"
   ]
  },
  {
   "cell_type": "code",
   "execution_count": null,
   "metadata": {},
   "outputs": [],
   "source": [
    "#| export\n",
    "# Helper function for tests\n",
    "def get_test_directory():\n",
    "    \"\"\"Create a test directory that will be cleaned up on process exit.\n",
    "    \n",
    "    Returns:\n",
    "        str: Path to test directory\n",
    "    \"\"\"\n",
    "    # Create a directory in the system temp directory\n",
    "    test_dir = os.path.join(tempfile.gettempdir(), f\"ragas_test_{create_nano_id()}\")\n",
    "    os.makedirs(test_dir, exist_ok=True)\n",
    "    \n",
    "    return test_dir"
   ]
  }
 ],
 "metadata": {
  "kernelspec": {
   "display_name": "python3",
   "language": "python",
   "name": "python3"
  }
 },
 "nbformat": 4,
 "nbformat_minor": 2
}
