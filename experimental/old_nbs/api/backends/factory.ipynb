{
 "cells": [
  {
   "cell_type": "markdown",
   "metadata": {},
   "source": [
    "# Backend Factory\n",
    "\n",
    "> Factory class for creating the backends or mocked backends."
   ]
  },
  {
   "cell_type": "code",
   "execution_count": null,
   "metadata": {},
   "outputs": [],
   "source": [
    "# | default_exp backends.factory"
   ]
  },
  {
   "cell_type": "code",
   "execution_count": null,
   "metadata": {},
   "outputs": [],
   "source": [
    "#| export\n",
    "import typing as t\n",
    "import os\n",
    "\n",
    "from ragas_experimental.backends.ragas_api_client import RagasApiClient"
   ]
  },
  {
   "cell_type": "code",
   "execution_count": null,
   "metadata": {},
   "outputs": [],
   "source": [
    "#| export\n",
    "class RagasApiClientFactory:\n",
    "    \"\"\"Factory for creating Ragas API client instances.\"\"\"\n",
    "\n",
    "    @staticmethod\n",
    "    def create(\n",
    "        app_token: t.Optional[str] = None,\n",
    "        base_url: t.Optional[str] = None,\n",
    "    ) -> RagasApiClient:\n",
    "        \"\"\"Create a Ragas API client.\n",
    "\n",
    "        Args:\n",
    "            api_key: The API key for the Ragas API\n",
    "            base_url: The base URL for the Ragas API\n",
    "\n",
    "        Returns:\n",
    "            RagasApiClient: A Ragas API client instance\n",
    "        \"\"\"\n",
    "        if app_token is None:\n",
    "            app_token = os.getenv(\"RAGAS_APP_TOKEN\")\n",
    "\n",
    "        if app_token is None:\n",
    "            raise ValueError(\"RAGAS_API_KEY environment variable is not set\")\n",
    "\n",
    "        if base_url is None:\n",
    "            base_url = os.getenv(\"RAGAS_API_BASE_URL\")\n",
    "\n",
    "        if base_url is None:\n",
    "            base_url = \"https://api.dev.app.ragas.io\"\n",
    "\n",
    "        return RagasApiClient(app_token=app_token, base_url=base_url)\n"
   ]
  }
 ],
 "metadata": {
  "kernelspec": {
   "display_name": "python3",
   "language": "python",
   "name": "python3"
  }
 },
 "nbformat": 4,
 "nbformat_minor": 2
}
