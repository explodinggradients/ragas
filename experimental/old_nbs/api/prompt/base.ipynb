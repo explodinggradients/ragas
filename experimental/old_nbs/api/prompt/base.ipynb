{
 "cells": [
  {
   "cell_type": "code",
   "execution_count": null,
   "metadata": {},
   "outputs": [],
   "source": [
    "#| default_exp prompt.base"
   ]
  },
  {
   "cell_type": "markdown",
   "metadata": {},
   "source": [
    "## Base Class"
   ]
  },
  {
   "cell_type": "code",
   "execution_count": null,
   "metadata": {},
   "outputs": [],
   "source": [
    "#| export\n",
    "\n",
    "import typing as t\n",
    "import re\n",
    "\n",
    "class Prompt:\n",
    "    def __init__(\n",
    "        self,\n",
    "        instruction: str,\n",
    "        examples: t.Optional[t.List[t.Tuple[t.Dict, t.Dict]]] = None\n",
    "    ):\n",
    "        \"\"\"\n",
    "        Create a simple prompt object.\n",
    "        \n",
    "        Parameters:\n",
    "        -----------\n",
    "        instruction : str\n",
    "            The prompt instruction template with placeholders like {response}, {expected_answer}\n",
    "        examples : Optional[List[Tuple[Dict, Dict]]]\n",
    "            List of (input_dict, output_dict) pairs for few-shot learning\n",
    "        \"\"\"\n",
    "        self.instruction = instruction\n",
    "        self.examples = []\n",
    "        \n",
    "        # Validate the instruction\n",
    "        self._validate_instruction()\n",
    "        \n",
    "        # Add examples if provided\n",
    "        if examples:\n",
    "            for inputs, output in examples:\n",
    "                self.add_example(inputs, output)\n",
    "    \n",
    "    def _validate_instruction(self):\n",
    "        \"\"\"Ensure the instruction contains at least one placeholder.\"\"\"\n",
    "        if not re.findall(r\"\\{(\\w+)\\}\", self.instruction):\n",
    "            raise ValueError(\"Instruction must contain at least one placeholder like {response}\")\n",
    "    \n",
    "    def format(self, **kwargs) -> str:\n",
    "        \"\"\"Format the prompt with the provided variables.\"\"\"\n",
    "\n",
    "        prompt_parts = []\n",
    "        prompt_parts.append(self.instruction.format(**kwargs))\n",
    "        prompt_parts.append(self._format_examples())\n",
    "\n",
    "        # Combine all parts\n",
    "        return \"\\n\\n\".join(prompt_parts)\n",
    "    \n",
    "    def _format_examples(self) -> str:\n",
    "        \n",
    "        # Add examples in a simple format\n",
    "        examples = []\n",
    "        if self.examples:\n",
    "            examples.append(\"Examples:\")\n",
    "            for i, (inputs, output) in enumerate(self.examples, 1):\n",
    "                example_input = \"\\n\".join([f\"{k}: {v}\" for k, v in inputs.items()])\n",
    "                example_output = \"\\n\".join([f\"{k}: {v}\" for k, v in output.items()])\n",
    "                \n",
    "                examples.append(f\"Example {i}:\\nInput:\\n{example_input}\\nOutput:\\n{example_output}\")\n",
    "        \n",
    "        return \"\\n\\n\".join(examples) if examples else \"\"\n",
    "        \n",
    "    \n",
    "    def add_example(self, inputs: t.Dict, output: t.Dict) -> None:\n",
    "        \"\"\"\n",
    "        Add an example to the prompt.\n",
    "        \n",
    "        Parameters:\n",
    "        -----------\n",
    "        inputs : Dict\n",
    "            Dictionary of input values\n",
    "        output : Dict\n",
    "            Dictionary of output values\n",
    "            \n",
    "        Raises:\n",
    "        -------\n",
    "        TypeError\n",
    "            If inputs or output is not a dictionary\n",
    "        \"\"\"\n",
    "        if not isinstance(inputs, dict):\n",
    "            raise TypeError(f\"Expected inputs to be dict, got {type(inputs).__name__}\")\n",
    "        if not isinstance(output, dict):\n",
    "            raise TypeError(f\"Expected output to be dict, got {type(output).__name__}\")\n",
    "            \n",
    "        self.examples.append((inputs, output))\n",
    "    \n",
    "    def __str__(self) -> str:\n",
    "        \"\"\"String representation showing the instruction.\"\"\"\n",
    "        return f\"Prompt(instruction='{self.instruction}',\\n examples={self.examples})\""
   ]
  },
  {
   "cell_type": "markdown",
   "metadata": {},
   "source": [
    "### Example Usage"
   ]
  },
  {
   "cell_type": "code",
   "execution_count": null,
   "metadata": {},
   "outputs": [
    {
     "name": "stdout",
     "output_type": "stream",
     "text": [
      "Evaluate if given answer You can get a full refund if you miss your flight. is same as expected answer Refunds depend on ticket type; only refundable tickets qualify for full refunds.\n",
      "\n",
      "Examples:\n",
      "\n",
      "Example 1:\n",
      "Input:\n",
      "response: You can get a full refund if you miss your flight.\n",
      "expected_answer: Refunds depend on ticket type; only refundable tickets qualify for full refunds.\n",
      "Output:\n",
      "score: fail\n",
      "\n",
      "Example 2:\n",
      "Input:\n",
      "response: Each passenger gets 1 free checked bag up to 23kg.\n",
      "expected_answer: Each passenger gets 1 free checked bag up to 23kg.\n",
      "Output:\n",
      "score: pass\n"
     ]
    }
   ],
   "source": [
    "# Create a basic prompt\n",
    "prompt = Prompt(\n",
    "    instruction=\"Evaluate if given answer {response} is same as expected answer {expected_answer}\"\n",
    ")\n",
    "\n",
    "# Add examples with dict inputs and dict outputs\n",
    "prompt.add_example(\n",
    "    {\n",
    "        \"response\": \"You can get a full refund if you miss your flight.\",\n",
    "        \"expected_answer\": \"Refunds depend on ticket type; only refundable tickets qualify for full refunds.\"\n",
    "    },\n",
    "    {\"score\": \"fail\"}\n",
    ")\n",
    "\n",
    "prompt.add_example(\n",
    "    {\n",
    "        \"response\": \"Each passenger gets 1 free checked bag up to 23kg.\",\n",
    "        \"expected_answer\": \"Each passenger gets 1 free checked bag up to 23kg.\"\n",
    "    },\n",
    "    {\"score\": \"pass\"}\n",
    ")\n",
    "\n",
    "print(prompt.format(response=\"You can get a full refund if you miss your flight.\", expected_answer=\"Refunds depend on ticket type; only refundable tickets qualify for full refunds.\"))"
   ]
  },
  {
   "cell_type": "code",
   "execution_count": null,
   "metadata": {},
   "outputs": [
    {
     "name": "stdout",
     "output_type": "stream",
     "text": [
      "Prompt(instruction='Evaluate if given answer {response} is same as expected answer {expected_answer}',\n",
      " examples=Examples:\n",
      "\n",
      "Example 1:\n",
      "Input:\n",
      "response: You can get a full refund if you miss your flight.\n",
      "expected_answer: Refunds depend on ticket type; only refundable tickets qualify for full refunds.\n",
      "Output:\n",
      "score: fail\n",
      "\n",
      "Example 2:\n",
      "Input:\n",
      "response: Each passenger gets 1 free checked bag up to 23kg.\n",
      "expected_answer: Each passenger gets 1 free checked bag up to 23kg.\n",
      "Output:\n",
      "score: pass)\n"
     ]
    }
   ],
   "source": [
    "print(str(prompt))"
   ]
  },
  {
   "cell_type": "code",
   "execution_count": null,
   "metadata": {},
   "outputs": [],
   "source": []
  }
 ],
 "metadata": {
  "kernelspec": {
   "display_name": "python3",
   "language": "python",
   "name": "python3"
  }
 },
 "nbformat": 4,
 "nbformat_minor": 2
}
